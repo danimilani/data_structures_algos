{
 "cells": [
  {
   "cell_type": "markdown",
   "id": "a4eb3d97",
   "metadata": {},
   "source": [
    "#  Linear and Binary Search"
   ]
  },
  {
   "cell_type": "markdown",
   "id": "348ebbcc",
   "metadata": {},
   "source": [
    "## Linear Search"
   ]
  },
  {
   "cell_type": "code",
   "execution_count": 4,
   "id": "0b1d9f2e",
   "metadata": {},
   "outputs": [],
   "source": [
    "def linear_search(unordered_list, search_value):\n",
    "    for index in range(len(unordered_list)): # iterate over the list\n",
    "        if unordered_list[index] == search_value: # check if element is equal to search value\n",
    "            return True\n",
    "    return False"
   ]
  },
  {
   "cell_type": "code",
   "execution_count": 5,
   "id": "0d23923e",
   "metadata": {},
   "outputs": [
    {
     "name": "stdout",
     "output_type": "stream",
     "text": [
      "True\n"
     ]
    }
   ],
   "source": [
    "print(linear_search([15,2,21,3,12,7,8], 8)) # Look for 8"
   ]
  },
  {
   "cell_type": "code",
   "execution_count": 6,
   "id": "4ab3182c",
   "metadata": {},
   "outputs": [
    {
     "name": "stdout",
     "output_type": "stream",
     "text": [
      "False\n"
     ]
    }
   ],
   "source": [
    "print(linear_search([15,2,21,3,12,7,8], 800)) # Look for 800"
   ]
  },
  {
   "cell_type": "markdown",
   "id": "2c5e3d58",
   "metadata": {},
   "source": [
    "## Binary Search"
   ]
  },
  {
   "cell_type": "code",
   "execution_count": 10,
   "id": "fec2f0d2",
   "metadata": {},
   "outputs": [],
   "source": [
    "def binary_search(ordered_list, search_value):\n",
    "    first = 0\n",
    "    last = len(ordered_list)-1\n",
    "    \n",
    "    while first <= last:\n",
    "        middle = (first + last)//2\n",
    "        if search_value == ordered_list[middle]:\n",
    "            return True\n",
    "        elif search_value < ordered_list[middle]:\n",
    "            last = middle - 1\n",
    "        else:\n",
    "            first = middle + 1\n",
    "    return False"
   ]
  },
  {
   "cell_type": "code",
   "execution_count": 11,
   "id": "2ebd8f9a",
   "metadata": {},
   "outputs": [
    {
     "name": "stdout",
     "output_type": "stream",
     "text": [
      "True\n"
     ]
    }
   ],
   "source": [
    "print(binary_search([2,5,10,12,15,17,20], 15)) # Look for 15"
   ]
  },
  {
   "cell_type": "code",
   "execution_count": 13,
   "id": "f52b5a9c",
   "metadata": {},
   "outputs": [
    {
     "name": "stdout",
     "output_type": "stream",
     "text": [
      "False\n"
     ]
    }
   ],
   "source": [
    "print(binary_search([2,5,10,12,15,17,20], 30)) # Look for 30"
   ]
  },
  {
   "cell_type": "markdown",
   "id": "aee8ddbf",
   "metadata": {},
   "source": [
    "## Exercises"
   ]
  },
  {
   "cell_type": "markdown",
   "id": "6dfa59fc",
   "metadata": {},
   "source": [
    "Implementing binary search"
   ]
  },
  {
   "cell_type": "markdown",
   "id": "d2466fd6",
   "metadata": {},
   "source": [
    "In this video, you learned how to implement linear search and binary search and saw the differences between them.\n",
    "\n",
    "In this exercise, you need to implement the binary_search() function. Can you do it?"
   ]
  },
  {
   "cell_type": "code",
   "execution_count": 14,
   "id": "f48a8d6e",
   "metadata": {},
   "outputs": [
    {
     "name": "stdout",
     "output_type": "stream",
     "text": [
      "True\n"
     ]
    }
   ],
   "source": [
    "def binary_search(ordered_list, search_value):\n",
    "  first = 0\n",
    "  last = len(ordered_list) - 1\n",
    "  \n",
    "  while first <= last:\n",
    "    middle = (first + last)//2\n",
    "    # Check whether the search value equals the value in the middle\n",
    "    if search_value == ordered_list[middle]:\n",
    "      return True\n",
    "    # Check whether the search value is smaller than the value in the middle\n",
    "    elif search_value < ordered_list[middle]:\n",
    "      # Set last to the value of middle minus one\n",
    "      last = middle - 1\n",
    "    else:\n",
    "      first = middle + 1\n",
    "  return False\n",
    "  \n",
    "print(binary_search([1,5,8,9,15,20,70,72], 5))"
   ]
  },
  {
   "cell_type": "markdown",
   "id": "0334b6ee",
   "metadata": {},
   "source": [
    "Binary search using recursion"
   ]
  },
  {
   "cell_type": "markdown",
   "id": "76415b14",
   "metadata": {},
   "source": [
    "In this exercise, you will implement the binary search algorithm you just learned using recursion. Recall that a recursive function refers to a function calling itself."
   ]
  },
  {
   "cell_type": "code",
   "execution_count": 15,
   "id": "3ce91f84",
   "metadata": {},
   "outputs": [
    {
     "name": "stdout",
     "output_type": "stream",
     "text": [
      "True\n"
     ]
    }
   ],
   "source": [
    "def binary_search_recursive(ordered_list, search_value):\n",
    "  # Define the base case\n",
    "  if len(ordered_list) == 0:\n",
    "    return False\n",
    "  else:\n",
    "    middle = len(ordered_list)//2\n",
    "    # Check whether the search value equals the value in the middle\n",
    "    if search_value == ordered_list[middle]:\n",
    "        return True\n",
    "    elif search_value < ordered_list[middle]:\n",
    "        # Call recursively with the left half of the list\n",
    "        return binary_search_recursive(ordered_list[:middle], search_value)\n",
    "    else:\n",
    "        # Call recursively with the right half of the list\n",
    "        return binary_search_recursive(ordered_list[middle+1:], search_value)\n",
    "  \n",
    "print(binary_search_recursive([1,5,8,9,15,20,70,72], 5))"
   ]
  },
  {
   "cell_type": "markdown",
   "id": "d23c4e34",
   "metadata": {},
   "source": [
    "## Binary Search Tree (BST)"
   ]
  },
  {
   "cell_type": "code",
   "execution_count": 16,
   "id": "cbe71a76",
   "metadata": {},
   "outputs": [],
   "source": [
    "# BST - Implementation\n",
    "\n",
    "class TreeNode:\n",
    "    def __init__(self, data, left=None, right=None):\n",
    "        self.data = data\n",
    "        self.left_child = left\n",
    "        self.right_child = right"
   ]
  },
  {
   "cell_type": "code",
   "execution_count": 17,
   "id": "a7b52260",
   "metadata": {},
   "outputs": [],
   "source": [
    "class BinarySearchTree:\n",
    "    def __init__(self):\n",
    "        self.root = None"
   ]
  },
  {
   "cell_type": "code",
   "execution_count": 19,
   "id": "3f384d47",
   "metadata": {},
   "outputs": [],
   "source": [
    "def search(self, search_value):\n",
    "    current_node = self.root\n",
    "    while current_node:\n",
    "        if search_value == current_node.data:\n",
    "            return True\n",
    "        elif search_value < current_node.data:\n",
    "            current_node = current_node.left_child\n",
    "        else:\n",
    "            current_node = current_node.right_child\n",
    "    return False"
   ]
  },
  {
   "cell_type": "markdown",
   "id": "de80ea9d",
   "metadata": {},
   "source": [
    "## Exercises"
   ]
  },
  {
   "cell_type": "markdown",
   "id": "0a05ad88",
   "metadata": {},
   "source": [
    "Inserting a node into a binary search tree\n",
    "\n",
    "In the video, you learned what binary search trees (BSTs) are and how to implement their main operations.\n",
    "\n",
    "In this exercise, you will implement a function to insert a node into a BST."
   ]
  },
  {
   "cell_type": "code",
   "execution_count": 20,
   "id": "1cba805b",
   "metadata": {},
   "outputs": [
    {
     "ename": "NameError",
     "evalue": "name 'CreateTree' is not defined",
     "output_type": "error",
     "traceback": [
      "\u001b[1;31m---------------------------------------------------------------------------\u001b[0m",
      "\u001b[1;31mNameError\u001b[0m                                 Traceback (most recent call last)",
      "\u001b[1;32m~\\AppData\\Local\\Temp/ipykernel_316/576570883.py\u001b[0m in \u001b[0;36m<module>\u001b[1;34m\u001b[0m\n\u001b[0;32m     27\u001b[0m             \u001b[0mcurrent_node\u001b[0m \u001b[1;33m=\u001b[0m \u001b[0mcurrent_node\u001b[0m\u001b[1;33m.\u001b[0m\u001b[0mright_child\u001b[0m\u001b[1;33m\u001b[0m\u001b[1;33m\u001b[0m\u001b[0m\n\u001b[0;32m     28\u001b[0m \u001b[1;33m\u001b[0m\u001b[0m\n\u001b[1;32m---> 29\u001b[1;33m \u001b[0mbst\u001b[0m \u001b[1;33m=\u001b[0m \u001b[0mCreateTree\u001b[0m\u001b[1;33m(\u001b[0m\u001b[1;33m)\u001b[0m\u001b[1;33m\u001b[0m\u001b[1;33m\u001b[0m\u001b[0m\n\u001b[0m\u001b[0;32m     30\u001b[0m \u001b[0mbst\u001b[0m\u001b[1;33m.\u001b[0m\u001b[0minsert\u001b[0m\u001b[1;33m(\u001b[0m\u001b[1;34m\"Pride and Prejudice\"\u001b[0m\u001b[1;33m)\u001b[0m\u001b[1;33m\u001b[0m\u001b[1;33m\u001b[0m\u001b[0m\n\u001b[0;32m     31\u001b[0m \u001b[0mprint\u001b[0m\u001b[1;33m(\u001b[0m\u001b[0msearch\u001b[0m\u001b[1;33m(\u001b[0m\u001b[0mbst\u001b[0m\u001b[1;33m,\u001b[0m \u001b[1;34m\"Pride and Prejudice\"\u001b[0m\u001b[1;33m)\u001b[0m\u001b[1;33m)\u001b[0m\u001b[1;33m\u001b[0m\u001b[1;33m\u001b[0m\u001b[0m\n",
      "\u001b[1;31mNameError\u001b[0m: name 'CreateTree' is not defined"
     ]
    }
   ],
   "source": [
    "class BinarySearchTree:\n",
    "  def __init__(self):\n",
    "    self.root = None\n",
    "\n",
    "  def insert(self, data):\n",
    "    new_node = TreeNode(data)\n",
    "    # Check if the BST is empty\n",
    "    if self.root == None:\n",
    "      self.root = new_node\n",
    "      return\n",
    "    else:\n",
    "      current_node = self.root\n",
    "      while True:\n",
    "        # Check if the data to insert is smaller than the current node's data\n",
    "        if data < current_node.data:\n",
    "          if current_node.left_child == None:\n",
    "            current_node.left_child = new_node\n",
    "            return \n",
    "          else:\n",
    "            current_node = current_node.left_child\n",
    "        # Check if the data to insert is greater than the current node's data\n",
    "        elif data > current_node.data:\n",
    "          if current_node.right_child == None:\n",
    "            current_node.right_child = new_node\n",
    "            return\n",
    "          else:\n",
    "            current_node = current_node.right_child\n",
    "            \n",
    "bst = CreateTree()\n",
    "bst.insert(\"Pride and Prejudice\")\n",
    "print(search(bst, \"Pride and Prejudice\"))"
   ]
  },
  {
   "cell_type": "markdown",
   "id": "e1a4f94a",
   "metadata": {},
   "source": [
    "Finding the minimum node of a BST\n",
    "\n",
    "In this exercise, you will practice on a BST to find the minimum node."
   ]
  },
  {
   "cell_type": "code",
   "execution_count": 21,
   "id": "267aebf8",
   "metadata": {},
   "outputs": [
    {
     "ename": "NameError",
     "evalue": "name 'CreateTree' is not defined",
     "output_type": "error",
     "traceback": [
      "\u001b[1;31m---------------------------------------------------------------------------\u001b[0m",
      "\u001b[1;31mNameError\u001b[0m                                 Traceback (most recent call last)",
      "\u001b[1;32m~\\AppData\\Local\\Temp/ipykernel_316/462413150.py\u001b[0m in \u001b[0;36m<module>\u001b[1;34m\u001b[0m\n\u001b[0;32m     12\u001b[0m     \u001b[1;32mreturn\u001b[0m \u001b[0mcurrent_node\u001b[0m\u001b[1;33m.\u001b[0m\u001b[0mdata\u001b[0m\u001b[1;33m\u001b[0m\u001b[1;33m\u001b[0m\u001b[0m\n\u001b[0;32m     13\u001b[0m \u001b[1;33m\u001b[0m\u001b[0m\n\u001b[1;32m---> 14\u001b[1;33m \u001b[0mbst\u001b[0m \u001b[1;33m=\u001b[0m \u001b[0mCreateTree\u001b[0m\u001b[1;33m(\u001b[0m\u001b[1;33m)\u001b[0m\u001b[1;33m\u001b[0m\u001b[1;33m\u001b[0m\u001b[0m\n\u001b[0m\u001b[0;32m     15\u001b[0m \u001b[0mprint\u001b[0m\u001b[1;33m(\u001b[0m\u001b[0mbst\u001b[0m\u001b[1;33m.\u001b[0m\u001b[0mfind_min\u001b[0m\u001b[1;33m(\u001b[0m\u001b[1;33m)\u001b[0m\u001b[1;33m)\u001b[0m\u001b[1;33m\u001b[0m\u001b[1;33m\u001b[0m\u001b[0m\n",
      "\u001b[1;31mNameError\u001b[0m: name 'CreateTree' is not defined"
     ]
    }
   ],
   "source": [
    "class BinarySearchTree:\n",
    "  def __init__(self):\n",
    "    self.root = None\n",
    "\n",
    "  def find_min(self):\n",
    "    # Set current_node as the root\n",
    "    current_node = self.root \n",
    "    # Iterate over the nodes of the appropriate subtree\n",
    "    while current_node.left_child:\n",
    "      # Update current_node\n",
    "      current_node = current_node.left_child\n",
    "    return current_node.data\n",
    "  \n",
    "bst = CreateTree()\n",
    "print(bst.find_min())"
   ]
  },
  {
   "cell_type": "markdown",
   "id": "bab2e11d",
   "metadata": {},
   "source": [
    "## Depth First Search (DFS) "
   ]
  },
  {
   "cell_type": "code",
   "execution_count": 23,
   "id": "49ba41f4",
   "metadata": {},
   "outputs": [
    {
     "ename": "NameError",
     "evalue": "name 'my_tree' is not defined",
     "output_type": "error",
     "traceback": [
      "\u001b[1;31m---------------------------------------------------------------------------\u001b[0m",
      "\u001b[1;31mNameError\u001b[0m                                 Traceback (most recent call last)",
      "\u001b[1;32m~\\AppData\\Local\\Temp/ipykernel_316/4175300815.py\u001b[0m in \u001b[0;36m<module>\u001b[1;34m\u001b[0m\n\u001b[0;32m      7\u001b[0m         \u001b[0mself\u001b[0m\u001b[1;33m.\u001b[0m\u001b[0min_order\u001b[0m\u001b[1;33m(\u001b[0m\u001b[0mcurrent_node\u001b[0m\u001b[1;33m.\u001b[0m\u001b[0mright_child\u001b[0m\u001b[1;33m)\u001b[0m\u001b[1;33m\u001b[0m\u001b[1;33m\u001b[0m\u001b[0m\n\u001b[0;32m      8\u001b[0m \u001b[1;33m\u001b[0m\u001b[0m\n\u001b[1;32m----> 9\u001b[1;33m \u001b[0mmy_tree\u001b[0m\u001b[1;33m.\u001b[0m\u001b[0min_order\u001b[0m\u001b[1;33m(\u001b[0m\u001b[0mmy_tree\u001b[0m\u001b[1;33m.\u001b[0m\u001b[0mroot\u001b[0m\u001b[1;33m)\u001b[0m\u001b[1;33m\u001b[0m\u001b[1;33m\u001b[0m\u001b[0m\n\u001b[0m",
      "\u001b[1;31mNameError\u001b[0m: name 'my_tree' is not defined"
     ]
    }
   ],
   "source": [
    "# In-Order Traversal - Implementation\n",
    "\n",
    "def in_order(self, current_node):\n",
    "    if current_node: # check if the node exists\n",
    "        self.in_order(current_node.left_child)\n",
    "        print(current_node.data) # visit the value\n",
    "        self.in_order(current_node.right_child)\n",
    "\n",
    "my_tree.in_order(my_tree.root)"
   ]
  },
  {
   "cell_type": "code",
   "execution_count": 24,
   "id": "b660f190",
   "metadata": {},
   "outputs": [
    {
     "ename": "NameError",
     "evalue": "name 'my_tree' is not defined",
     "output_type": "error",
     "traceback": [
      "\u001b[1;31m---------------------------------------------------------------------------\u001b[0m",
      "\u001b[1;31mNameError\u001b[0m                                 Traceback (most recent call last)",
      "\u001b[1;32m~\\AppData\\Local\\Temp/ipykernel_316/3635384680.py\u001b[0m in \u001b[0;36m<module>\u001b[1;34m\u001b[0m\n\u001b[0;32m      7\u001b[0m         \u001b[0mself\u001b[0m\u001b[1;33m.\u001b[0m\u001b[0mpre_order\u001b[0m\u001b[1;33m(\u001b[0m\u001b[0mcurrent_node\u001b[0m\u001b[1;33m.\u001b[0m\u001b[0mright_child\u001b[0m\u001b[1;33m)\u001b[0m\u001b[1;33m\u001b[0m\u001b[1;33m\u001b[0m\u001b[0m\n\u001b[0;32m      8\u001b[0m \u001b[1;33m\u001b[0m\u001b[0m\n\u001b[1;32m----> 9\u001b[1;33m \u001b[0mmy_tree\u001b[0m\u001b[1;33m.\u001b[0m\u001b[0min_order\u001b[0m\u001b[1;33m(\u001b[0m\u001b[0mmy_tree\u001b[0m\u001b[1;33m.\u001b[0m\u001b[0mroot\u001b[0m\u001b[1;33m)\u001b[0m\u001b[1;33m\u001b[0m\u001b[1;33m\u001b[0m\u001b[0m\n\u001b[0m",
      "\u001b[1;31mNameError\u001b[0m: name 'my_tree' is not defined"
     ]
    }
   ],
   "source": [
    "# Pre-Order Traversal - Implementation\n",
    "\n",
    "def pre_order(self, current_node):\n",
    "    if current_node: # check if the node exists\n",
    "        print(current_node.data) # visit the value\n",
    "        self.pre_order(current_node.left_child)\n",
    "        self.pre_order(current_node.right_child)\n",
    "\n",
    "my_tree.in_order(my_tree.root)"
   ]
  },
  {
   "cell_type": "code",
   "execution_count": null,
   "id": "52f0e61f",
   "metadata": {},
   "outputs": [],
   "source": [
    "# Depth First Search - Implementation\n",
    "\n",
    "def dfs(visited_vertices, graph, current_vertex):\n",
    "    if current_vertex not in visited_vertices:\n",
    "        print(current_vertex)\n",
    "        visited_vertices.add(current_vertex)\n",
    "        for adjacent_vertex in graph[current_vertex]:\n",
    "            dfs(visited_vertices, graph, adjacent_vertex)"
   ]
  },
  {
   "cell_type": "markdown",
   "id": "6e0c164f",
   "metadata": {},
   "source": [
    "## Exercises"
   ]
  },
  {
   "cell_type": "markdown",
   "id": "22b8543a",
   "metadata": {},
   "source": [
    "Printing book titles in alphabetical order\n",
    "\n",
    "This video taught you three ways of implementing the depth first search traversal into binary trees: in-order, pre-order, and post-order.\n",
    "\n",
    "In the following binary search tree, you have stored the titles of some books."
   ]
  },
  {
   "cell_type": "code",
   "execution_count": null,
   "id": "5490fba9",
   "metadata": {},
   "outputs": [],
   "source": [
    "class BinarySearchTree:\n",
    "  def __init__(self):\n",
    "    self.root = None\n",
    "\n",
    "  def in_order(self, current_node):\n",
    "    # Check if current_node exists\n",
    "    if current_node:\n",
    "      # Call recursively with the appropriate half of the tree\n",
    "      self.in_order(current_node.left_child)\n",
    "      # Print the value of the current_node\n",
    "      print(current_node.data)\n",
    "      # Call recursively with the appropriate half of the tree\n",
    "      self.in_order(current_node.right_child)\n",
    "  \n",
    "bst = CreateTree()\n",
    "bst.in_order(bst.root)"
   ]
  },
  {
   "cell_type": "markdown",
   "id": "9c143fef",
   "metadata": {},
   "source": [
    "Using pre-order traversal with Polish notation\n",
    "\n",
    "Expression trees are a kind of binary tree that represent arithmetic expressions.\n",
    "\n",
    "By applying in-order traversal to an expression tree, you can obtain the infix notation. This notation for the given tree will be (10-5)*3.\n",
    "\n",
    "By applying pre-order traversal to an expression tree, you can obtain the prefix notation, aka Polish notation, where the operator appears before its operands. This notation for the given tree will be *-10 5 3.\n",
    "\n",
    "By applying post-order traversal to an expression tree, you can obtain the postfix notation, aka reverse Polish notation, where the operator appears after its operands. This notation for the given tree will be 10 5- 3*.\n",
    "\n",
    "Code the pre-order traversal so that you can obtain the prefix notation of this expression tree."
   ]
  },
  {
   "cell_type": "code",
   "execution_count": 26,
   "id": "c5f8cd2c",
   "metadata": {},
   "outputs": [
    {
     "ename": "NameError",
     "evalue": "name 'CreateExpressionTree' is not defined",
     "output_type": "error",
     "traceback": [
      "\u001b[1;31m---------------------------------------------------------------------------\u001b[0m",
      "\u001b[1;31mNameError\u001b[0m                                 Traceback (most recent call last)",
      "\u001b[1;32m~\\AppData\\Local\\Temp/ipykernel_316/93729621.py\u001b[0m in \u001b[0;36m<module>\u001b[1;34m\u001b[0m\n\u001b[0;32m     14\u001b[0m       \u001b[0mself\u001b[0m\u001b[1;33m.\u001b[0m\u001b[0mpre_order\u001b[0m\u001b[1;33m(\u001b[0m\u001b[0mcurrent_node\u001b[0m\u001b[1;33m.\u001b[0m\u001b[0mright_child\u001b[0m\u001b[1;33m)\u001b[0m\u001b[1;33m\u001b[0m\u001b[1;33m\u001b[0m\u001b[0m\n\u001b[0;32m     15\u001b[0m \u001b[1;33m\u001b[0m\u001b[0m\n\u001b[1;32m---> 16\u001b[1;33m \u001b[0met\u001b[0m \u001b[1;33m=\u001b[0m \u001b[0mCreateExpressionTree\u001b[0m\u001b[1;33m(\u001b[0m\u001b[1;33m)\u001b[0m\u001b[1;33m\u001b[0m\u001b[1;33m\u001b[0m\u001b[0m\n\u001b[0m\u001b[0;32m     17\u001b[0m \u001b[0met\u001b[0m\u001b[1;33m.\u001b[0m\u001b[0mpre_order\u001b[0m\u001b[1;33m(\u001b[0m\u001b[0met\u001b[0m\u001b[1;33m.\u001b[0m\u001b[0mroot\u001b[0m\u001b[1;33m)\u001b[0m\u001b[1;33m\u001b[0m\u001b[1;33m\u001b[0m\u001b[0m\n",
      "\u001b[1;31mNameError\u001b[0m: name 'CreateExpressionTree' is not defined"
     ]
    }
   ],
   "source": [
    "import queue\n",
    "\n",
    "class ExpressionTree:\n",
    "  def __init__(self):\n",
    "    self.root = None\n",
    "\n",
    "  def pre_order(self, current_node):\n",
    "    # Check if current_node exists\n",
    "    if current_node:\n",
    "      # Print the value of the current_node\n",
    "      print(current_node.data)\n",
    "      # Call pre_order recursively on the appropriate half of the tree\n",
    "      self.pre_order(current_node.left_child)\n",
    "      self.pre_order(current_node.right_child)\n",
    "          \n",
    "et = CreateExpressionTree()\n",
    "et.pre_order(et.root)"
   ]
  },
  {
   "cell_type": "markdown",
   "id": "ab2040d5",
   "metadata": {},
   "source": [
    "Implementing DFS for graphs\n",
    "\n",
    "In this exercise, you will implement a depth first search algorithm to traverse a graph.\n",
    "\n",
    "Recall the steps:\n",
    "\n",
    "Start at any vertex\n",
    "\n",
    "Add the vertex to the visited vertices list\n",
    "\n",
    "For each current node's adjacent vertex\n",
    "\n",
    "If it has been visited -> ignore it\n",
    "\n",
    "If it hasn't been visited -> recursively perform DFS\n",
    "\n",
    "To help you test your code, the following graph has been loaded using a dictionary."
   ]
  },
  {
   "cell_type": "code",
   "execution_count": 27,
   "id": "d7972cb8",
   "metadata": {},
   "outputs": [],
   "source": [
    "graph = {\n",
    "  '0' : ['1','2'],\n",
    "  '1' : ['0', '2', '3'],\n",
    "  '2' : ['0', '1', '4'],\n",
    "  '3' : ['1', '4'],\n",
    "  '4' : ['2', '3']\n",
    "}"
   ]
  },
  {
   "cell_type": "code",
   "execution_count": 29,
   "id": "84e0b07f",
   "metadata": {},
   "outputs": [
    {
     "name": "stdout",
     "output_type": "stream",
     "text": [
      "0\n"
     ]
    }
   ],
   "source": [
    "def dfs(visited_vertices, graph, current_vertex):\n",
    "    # Check if current_vertex hasn't been visited yet\n",
    "    if current_vertex not in visited_vertices:\n",
    "        print(current_vertex)\n",
    "        # Add current_vertex to visited_vertices\n",
    "        visited_vertices.add(current_vertex)\n",
    "        for adjacent_vertex in graph[current_vertex]:\n",
    "            # Call recursively with the appropriate values\n",
    "            dfs(visited_vertices, graph, current_vertex)\n",
    "            \n",
    "dfs(set(), graph, '0')"
   ]
  },
  {
   "cell_type": "markdown",
   "id": "fdbbf7b3",
   "metadata": {},
   "source": [
    "## Breadth First Search (BFS)"
   ]
  },
  {
   "cell_type": "markdown",
   "id": "13bbe616",
   "metadata": {},
   "source": [
    "It starts from the root and visits every node of every level."
   ]
  },
  {
   "cell_type": "code",
   "execution_count": null,
   "id": "b918875b",
   "metadata": {},
   "outputs": [],
   "source": [
    "# BFS with Trees\n",
    "\n",
    "def bfs(self):\n",
    "    if self.root:\n",
    "        visited_nodes = [] # create empty list to keep track of visited nodes\n",
    "        bfs_queue = queue.SimpleQueue() # create queue to store the nodes to be visited\n",
    "        bfs_queue.put(self.root) # add root to the queue\n",
    "        while not bfs_queue.empty():\n",
    "            current_node = bfs_queue.get()\n",
    "            visited_nodes.appen(current_node.data)\n",
    "            if current_node.left:\n",
    "                bfs_queue.put(current_node.left)\n",
    "            if current_node.right:\n",
    "                bfs_queue.put(current_node.right)\n",
    "        return visited_nodes"
   ]
  },
  {
   "cell_type": "code",
   "execution_count": null,
   "id": "6b3e7037",
   "metadata": {},
   "outputs": [],
   "source": [
    "# BFS with Graphs\n",
    "\n",
    "def bfs(graph, initial_vertex):\n",
    "    visited_vertices = []\n",
    "    bfs_queue = queue.SimpleQueue()\n",
    "    bfs_queue.put(initial_vertex)\n",
    "    visited_vertices.append(initial_vertex)\n",
    "    while not bfs_queue.empty():\n",
    "        current_vertex = bfs_queue.get()\n",
    "        for adjacent_vertex in graph[current_vertex]:\n",
    "            if adjacent_vertex not in visited_vertices:\n",
    "                visited_vertices.append(adjacent_vertex)\n",
    "                bfs_queue.put(adjacent_vertex)\n",
    "    return visited_vertices"
   ]
  },
  {
   "cell_type": "markdown",
   "id": "c1eb7996",
   "metadata": {},
   "source": [
    "## Exercises"
   ]
  },
  {
   "cell_type": "markdown",
   "id": "45262e20",
   "metadata": {},
   "source": [
    "Finding a graph vertex using BFS\n",
    "\n",
    "In this exercise, you will modify the BFS algorithm to search for a given vertex within a graph.\n",
    "\n",
    "To help you test your code, the following graph has been loaded using a dictionary."
   ]
  },
  {
   "cell_type": "code",
   "execution_count": 30,
   "id": "91c3d7fe",
   "metadata": {},
   "outputs": [],
   "source": [
    "graph = {\n",
    "  '4' : ['6','7'],\n",
    "  '6' : ['4', '7', '8'],\n",
    "  '7' : ['4', '6', '9'],\n",
    "  '8' : ['6', '9'],\n",
    "  '9' : ['7', '8']\n",
    "}"
   ]
  },
  {
   "cell_type": "code",
   "execution_count": 31,
   "id": "4bbea701",
   "metadata": {},
   "outputs": [
    {
     "name": "stdout",
     "output_type": "stream",
     "text": [
      "True\n"
     ]
    }
   ],
   "source": [
    "import queue\n",
    "\n",
    "def bfs(graph, initial_vertex, search_value):\n",
    "  visited_vertices = []\n",
    "  bfs_queue = queue.SimpleQueue()\n",
    "  visited_vertices.append(initial_vertex)\n",
    "  bfs_queue.put(initial_vertex)\n",
    "\n",
    "  while not bfs_queue.empty():\n",
    "    current_vertex = bfs_queue.get()\n",
    "    # Check if you found the search value\n",
    "    if current_vertex == search_value:\n",
    "      # Return True if you find the search value\n",
    "      return True    \n",
    "    for adjacent_vertex in graph[current_vertex]:\n",
    "      # Check if the adjacent vertex has been visited\n",
    "      if adjacent_vertex not in visited_vertices:\n",
    "        visited_vertices.append(adjacent_vertex)\n",
    "        bfs_queue.put(adjacent_vertex)\n",
    "  # Return False if you didn't find the search value\n",
    "  return False\n",
    "\n",
    "print(bfs(graph, '4', '8'))"
   ]
  },
  {
   "cell_type": "code",
   "execution_count": null,
   "id": "129679b4",
   "metadata": {},
   "outputs": [],
   "source": []
  }
 ],
 "metadata": {
  "kernelspec": {
   "display_name": "Python 3 (ipykernel)",
   "language": "python",
   "name": "python3"
  },
  "language_info": {
   "codemirror_mode": {
    "name": "ipython",
    "version": 3
   },
   "file_extension": ".py",
   "mimetype": "text/x-python",
   "name": "python",
   "nbconvert_exporter": "python",
   "pygments_lexer": "ipython3",
   "version": "3.9.7"
  }
 },
 "nbformat": 4,
 "nbformat_minor": 5
}
