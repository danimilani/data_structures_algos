{
 "cells": [
  {
   "cell_type": "markdown",
   "id": "9536ab42",
   "metadata": {},
   "source": [
    "# Queues and Hash Tables"
   ]
  },
  {
   "cell_type": "markdown",
   "id": "0aaaa1c2",
   "metadata": {},
   "source": [
    "## Queues"
   ]
  },
  {
   "cell_type": "code",
   "execution_count": 1,
   "id": "accfa03d",
   "metadata": {},
   "outputs": [],
   "source": [
    "# Queues - Implementation\n",
    "\n",
    "class Node:\n",
    "    def __init__(self, data):\n",
    "        self.data = data\n",
    "        self.next = None"
   ]
  },
  {
   "cell_type": "code",
   "execution_count": 2,
   "id": "d46ef5fa",
   "metadata": {},
   "outputs": [],
   "source": [
    "# Define the queue class\n",
    "\n",
    "class Queue:\n",
    "    def __init__(self, data):\n",
    "        self.head = data\n",
    "        self.tail = None"
   ]
  },
  {
   "cell_type": "code",
   "execution_count": 3,
   "id": "cf6d185d",
   "metadata": {},
   "outputs": [],
   "source": [
    "# Enqueue Method -  Adding elements\n",
    "\n",
    "def enqueue(self, data):\n",
    "    new_node = Node(data) # create the new node\n",
    "    if self.head == None: # check if the queue is empty\n",
    "        self.head = new_node\n",
    "        self.tail = new_node # both head and tail will point to the new_node\n",
    "    else:\n",
    "        self.tail.next = new_node # if not empty, the tail's next pointer will point to the new node\n",
    "        self.tail = new_node # the tail will point to the new node"
   ]
  },
  {
   "cell_type": "code",
   "execution_count": 4,
   "id": "09104c08",
   "metadata": {},
   "outputs": [],
   "source": [
    "# Dequeue Method -  Removing elements\n",
    "\n",
    "def dequeue(self,data):\n",
    "    if self.head:\n",
    "        current_node = self.head # create variable that points to the head node (the one that will be removed)\n",
    "        self.head = current_node.next # move the head to the next node\n",
    "        current_node.next = None\n",
    "        \n",
    "        if self.head == None:\n",
    "            self.tail = None # set the tail to None            "
   ]
  },
  {
   "cell_type": "code",
   "execution_count": 6,
   "id": "4cce005a",
   "metadata": {},
   "outputs": [
    {
     "name": "stdout",
     "output_type": "stream",
     "text": [
      "The size of this queue is:  3\n"
     ]
    }
   ],
   "source": [
    "# Creating a Queue in Python\n",
    "\n",
    "import queue\n",
    "\n",
    "orders_queue = queue.SimpleQueue()\n",
    "\n",
    "# add elements using put\n",
    "orders_queue.put(\"Sushi\")\n",
    "orders_queue.put(\"Lasagna\")\n",
    "orders_queue.put(\"Paella\")\n",
    "\n",
    "# get the size of the queue\n",
    "print(\"The size of this queue is: \", orders_queue.qsize())"
   ]
  },
  {
   "cell_type": "code",
   "execution_count": 7,
   "id": "b512ba8f",
   "metadata": {},
   "outputs": [
    {
     "name": "stdout",
     "output_type": "stream",
     "text": [
      "Sushi\n",
      "The size of this queue is:  2\n"
     ]
    }
   ],
   "source": [
    "# remove elements\n",
    "\n",
    "print(orders_queue.get())\n",
    "print(\"The size of this queue is: \", orders_queue.qsize())"
   ]
  },
  {
   "cell_type": "code",
   "execution_count": 8,
   "id": "12b51f07",
   "metadata": {},
   "outputs": [
    {
     "name": "stdout",
     "output_type": "stream",
     "text": [
      "Lasagna\n",
      "The size of this queue is:  1\n"
     ]
    }
   ],
   "source": [
    "# remove elements\n",
    "\n",
    "print(orders_queue.get())\n",
    "print(\"The size of this queue is: \", orders_queue.qsize())"
   ]
  },
  {
   "cell_type": "code",
   "execution_count": 9,
   "id": "a646149f",
   "metadata": {},
   "outputs": [
    {
     "name": "stdout",
     "output_type": "stream",
     "text": [
      "Paella\n",
      "The size of this queue is:  0\n"
     ]
    }
   ],
   "source": [
    "# remove elements\n",
    "\n",
    "print(orders_queue.get())\n",
    "print(\"The size of this queue is: \", orders_queue.qsize())"
   ]
  },
  {
   "cell_type": "code",
   "execution_count": 10,
   "id": "629a8495",
   "metadata": {},
   "outputs": [
    {
     "name": "stdout",
     "output_type": "stream",
     "text": [
      "Empty queue:  True\n"
     ]
    }
   ],
   "source": [
    "# Check if the queue is empty\n",
    "\n",
    "print(\"Empty queue: \", orders_queue.empty())"
   ]
  },
  {
   "cell_type": "markdown",
   "id": "67f6f5d2",
   "metadata": {},
   "source": [
    "# EXERCISES"
   ]
  },
  {
   "cell_type": "code",
   "execution_count": 11,
   "id": "295f3296",
   "metadata": {},
   "outputs": [],
   "source": [
    "# Implementing a queue for printer tasks"
   ]
  },
  {
   "cell_type": "code",
   "execution_count": 12,
   "id": "b8fa921b",
   "metadata": {},
   "outputs": [],
   "source": [
    "class PrinterTasks:\n",
    "  def __init__(self):\n",
    "    self.queue = Queue()\n",
    "      \n",
    "  def add_document(self, document):\n",
    "    # Add the document to the queue\n",
    "    self.queue.enqueue(document)\n",
    "      \n",
    "  def print_documents(self):\n",
    "    # Iterate over the queue while it has elements\n",
    "    while self.queue.has_elements():\n",
    "      # Remove the document from the queue\n",
    "      print(\"Printing\", self.queue.dequeue())"
   ]
  },
  {
   "cell_type": "code",
   "execution_count": null,
   "id": "2a20f40e",
   "metadata": {},
   "outputs": [],
   "source": [
    "printer_tasks = PrinterTasks()\n",
    "# Add some documents to print\n",
    "printer_tasks.add_document(\"Document 1\")\n",
    "printer_tasks.add_document(\"Document 2\")\n",
    "printer_tasks.add_document(\"Document 3\")\n",
    "# Print all the documents in the queue\n",
    "printer_tasks.print_documents()"
   ]
  },
  {
   "cell_type": "code",
   "execution_count": 14,
   "id": "aeb4e217",
   "metadata": {},
   "outputs": [],
   "source": [
    "# Using Python's SimpleQueue"
   ]
  },
  {
   "cell_type": "code",
   "execution_count": 15,
   "id": "b260a6cd",
   "metadata": {},
   "outputs": [
    {
     "data": {
      "text/plain": [
       "'samosas'"
      ]
     },
     "execution_count": 15,
     "metadata": {},
     "output_type": "execute_result"
    }
   ],
   "source": [
    "import queue\n",
    "\n",
    "# Create the queue\n",
    "my_orders_queue = queue.SimpleQueue()\n",
    "\n",
    "# Add an element to the queue\n",
    "my_orders_queue.put(\"samosas\")\n",
    "\n",
    "# Remove an element from the queue\n",
    "my_orders_queue.get()"
   ]
  },
  {
   "cell_type": "markdown",
   "id": "7c04748d",
   "metadata": {},
   "source": [
    "## Hash Tables"
   ]
  },
  {
   "cell_type": "code",
   "execution_count": 31,
   "id": "5e8a471a",
   "metadata": {},
   "outputs": [],
   "source": [
    "# In Python, hash tables are dictionaries\n",
    "\n",
    "# Empty dictionary\n",
    "\n",
    "my_empty_dictionary = {}"
   ]
  },
  {
   "cell_type": "code",
   "execution_count": 32,
   "id": "a6541583",
   "metadata": {},
   "outputs": [],
   "source": [
    "# Dictionary with Items\n",
    "\n",
    "my_menu = {\n",
    "    'lasagna': 14.75,\n",
    "    'moussaka': 21.15,\n",
    "    'sushi': 16.05\n",
    "}"
   ]
  },
  {
   "cell_type": "code",
   "execution_count": 33,
   "id": "29d6330a",
   "metadata": {},
   "outputs": [
    {
     "name": "stdout",
     "output_type": "stream",
     "text": [
      "16.05\n"
     ]
    }
   ],
   "source": [
    "# Getting values\n",
    "\n",
    "print(my_menu['sushi'])"
   ]
  },
  {
   "cell_type": "code",
   "execution_count": 34,
   "id": "0b64b918",
   "metadata": {},
   "outputs": [
    {
     "ename": "KeyError",
     "evalue": "'paella'",
     "output_type": "error",
     "traceback": [
      "\u001b[1;31m---------------------------------------------------------------------------\u001b[0m",
      "\u001b[1;31mKeyError\u001b[0m                                  Traceback (most recent call last)",
      "\u001b[1;32m~\\AppData\\Local\\Temp/ipykernel_9800/2697344014.py\u001b[0m in \u001b[0;36m<module>\u001b[1;34m\u001b[0m\n\u001b[1;32m----> 1\u001b[1;33m \u001b[0mprint\u001b[0m\u001b[1;33m(\u001b[0m\u001b[0mmy_menu\u001b[0m\u001b[1;33m[\u001b[0m\u001b[1;34m'paella'\u001b[0m\u001b[1;33m]\u001b[0m\u001b[1;33m)\u001b[0m \u001b[1;31m# if the key doesnt exist\u001b[0m\u001b[1;33m\u001b[0m\u001b[1;33m\u001b[0m\u001b[0m\n\u001b[0m",
      "\u001b[1;31mKeyError\u001b[0m: 'paella'"
     ]
    }
   ],
   "source": [
    "print(my_menu['paella']) # if the key doesnt exist"
   ]
  },
  {
   "cell_type": "code",
   "execution_count": 35,
   "id": "ae8c77d0",
   "metadata": {},
   "outputs": [
    {
     "name": "stdout",
     "output_type": "stream",
     "text": [
      "None\n"
     ]
    }
   ],
   "source": [
    "print(my_menu.get('paella'))"
   ]
  },
  {
   "cell_type": "code",
   "execution_count": 36,
   "id": "fff1188a",
   "metadata": {},
   "outputs": [
    {
     "name": "stdout",
     "output_type": "stream",
     "text": [
      "dict_items([('lasagna', 14.75), ('moussaka', 21.15), ('sushi', 16.05)])\n"
     ]
    }
   ],
   "source": [
    "# Getting items\n",
    "\n",
    "print(my_menu.items())"
   ]
  },
  {
   "cell_type": "code",
   "execution_count": 37,
   "id": "d9bda407",
   "metadata": {},
   "outputs": [
    {
     "name": "stdout",
     "output_type": "stream",
     "text": [
      "dict_keys(['lasagna', 'moussaka', 'sushi'])\n"
     ]
    }
   ],
   "source": [
    "# Getting Keys\n",
    "\n",
    "print(my_menu.keys())"
   ]
  },
  {
   "cell_type": "code",
   "execution_count": 38,
   "id": "3d5af261",
   "metadata": {},
   "outputs": [
    {
     "name": "stdout",
     "output_type": "stream",
     "text": [
      "dict_values([14.75, 21.15, 16.05])\n"
     ]
    }
   ],
   "source": [
    "# Getting Values\n",
    "\n",
    "print(my_menu.values())"
   ]
  },
  {
   "cell_type": "code",
   "execution_count": 39,
   "id": "23c58d39",
   "metadata": {},
   "outputs": [
    {
     "name": "stdout",
     "output_type": "stream",
     "text": [
      "dict_items([('lasagna', 14.75), ('moussaka', 21.15), ('sushi', 16.05), ('samosas', 13)])\n"
     ]
    }
   ],
   "source": [
    "# Inserting items\n",
    "\n",
    "my_menu['samosas'] = 13\n",
    "print(my_menu.items())"
   ]
  },
  {
   "cell_type": "code",
   "execution_count": 40,
   "id": "d295fb87",
   "metadata": {},
   "outputs": [
    {
     "name": "stdout",
     "output_type": "stream",
     "text": [
      "16.05\n"
     ]
    }
   ],
   "source": [
    "# Modifying values\n",
    "\n",
    "print(my_menu.get('sushi')) # specify it"
   ]
  },
  {
   "cell_type": "code",
   "execution_count": 41,
   "id": "38a1877c",
   "metadata": {},
   "outputs": [
    {
     "name": "stdout",
     "output_type": "stream",
     "text": [
      "20\n"
     ]
    }
   ],
   "source": [
    "my_menu['sushi'] = 20 # assign new value\n",
    "print(my_menu.get('sushi')) "
   ]
  },
  {
   "cell_type": "code",
   "execution_count": 42,
   "id": "9ea872d6",
   "metadata": {},
   "outputs": [],
   "source": [
    "# Deleting\n",
    "\n",
    "# Removing a key value pair\n",
    "\n",
    "del my_menu[\"sushi\"]"
   ]
  },
  {
   "cell_type": "code",
   "execution_count": 43,
   "id": "c312facc",
   "metadata": {},
   "outputs": [],
   "source": [
    "# Deleting a dictionaty completely\n",
    "\n",
    "del my_menu"
   ]
  },
  {
   "cell_type": "code",
   "execution_count": null,
   "id": "92ed3df2",
   "metadata": {},
   "outputs": [],
   "source": [
    "# Emptying a dictionary\n",
    "\n",
    "my_menu.clear()"
   ]
  },
  {
   "cell_type": "code",
   "execution_count": 48,
   "id": "3a1bd05d",
   "metadata": {},
   "outputs": [
    {
     "name": "stdout",
     "output_type": "stream",
     "text": [
      "\n",
      "key: lasagna\n",
      "value: 14.75\n",
      "\n",
      "key: moussaka\n",
      "value: 21.15\n",
      "\n",
      "key: sushi\n",
      "value: 16.05\n"
     ]
    }
   ],
   "source": [
    "# Iterating in a Dictionary\n",
    "\n",
    "my_menu = {\n",
    "    'lasagna': 14.75,\n",
    "    'moussaka': 21.15,\n",
    "    'sushi': 16.05\n",
    "}\n",
    "\n",
    "for key, value in my_menu.items():\n",
    "    print(f\"\\nkey: {key}\")\n",
    "    print(f\"value: {value}\")"
   ]
  },
  {
   "cell_type": "code",
   "execution_count": 49,
   "id": "859f895d",
   "metadata": {},
   "outputs": [
    {
     "name": "stdout",
     "output_type": "stream",
     "text": [
      "lasagna\n",
      "moussaka\n",
      "sushi\n"
     ]
    }
   ],
   "source": [
    "# Iterate over the keys\n",
    "\n",
    "for dish in my_menu:\n",
    "    print(dish)"
   ]
  },
  {
   "cell_type": "code",
   "execution_count": 50,
   "id": "4f88e5ba",
   "metadata": {},
   "outputs": [
    {
     "name": "stdout",
     "output_type": "stream",
     "text": [
      "14.75\n",
      "21.15\n",
      "16.05\n"
     ]
    }
   ],
   "source": [
    "# Iterate over the values\n",
    "\n",
    "for prices in my_menu.values():\n",
    "    print(prices)"
   ]
  },
  {
   "cell_type": "code",
   "execution_count": 54,
   "id": "77c4a97e",
   "metadata": {},
   "outputs": [
    {
     "name": "stdout",
     "output_type": "stream",
     "text": [
      "dict_items([('sushi', {'price': 19.25, 'best_served': 'cold'}), ('paella', {'price': 15, 'best_served': 'hot'})])\n"
     ]
    }
   ],
   "source": [
    "# Nested Dictionaries\n",
    "\n",
    "my_menu = {\n",
    "    'sushi': {\n",
    "        'price': 19.25,\n",
    "        'best_served': 'cold'\n",
    "    },\n",
    "    'paella':{\n",
    "        'price': 15,\n",
    "        'best_served': 'hot'\n",
    "    }\n",
    "}\n",
    "\n",
    "print(my_menu.items())"
   ]
  },
  {
   "cell_type": "markdown",
   "id": "56502718",
   "metadata": {},
   "source": [
    "# EXERCISES"
   ]
  },
  {
   "cell_type": "code",
   "execution_count": 55,
   "id": "e80c64e1",
   "metadata": {},
   "outputs": [],
   "source": [
    "# Correcting bugs in a dictionary"
   ]
  },
  {
   "cell_type": "code",
   "execution_count": 56,
   "id": "e732a4c6",
   "metadata": {},
   "outputs": [],
   "source": [
    "my_menu = {\n",
    "  'lasagna': 14.75,\n",
    "  'moussaka': 21.15,\n",
    "  'sushi': 16.05,\n",
    "  'paella': 21,\n",
    "  'samosas': 14\n",
    "}"
   ]
  },
  {
   "cell_type": "code",
   "execution_count": 57,
   "id": "b3638342",
   "metadata": {},
   "outputs": [
    {
     "name": "stdout",
     "output_type": "stream",
     "text": [
      "The price of the lasagna is 14.75.\n",
      "The price of the moussaka is 21.15.\n",
      "The price of the sushi is 16.05.\n",
      "The price of the paella is 21.\n",
      "The price of the samosas is 14.\n"
     ]
    }
   ],
   "source": [
    "# Correct the mistake\n",
    "for key, value in my_menu.items():\n",
    "  # Correct the mistake\n",
    "  print(f\"The price of the {key} is {value}.\")"
   ]
  },
  {
   "cell_type": "code",
   "execution_count": 58,
   "id": "1b34d7dd",
   "metadata": {},
   "outputs": [],
   "source": [
    "# Iterating over a nested dictionary"
   ]
  },
  {
   "cell_type": "code",
   "execution_count": 59,
   "id": "dc192d3c",
   "metadata": {},
   "outputs": [],
   "source": [
    "my_menu = {\n",
    "  'sushi' : {\n",
    "    'price' : 19.25,\n",
    "    'best_served' : 'cold'\n",
    "  },\n",
    "  'paella' : {\n",
    "    'price' : 15,\n",
    "    'best_served' : 'hot'\n",
    "  },\n",
    "  'samosa' : {\n",
    "    'price' : 14,\n",
    "    'best_served' : 'hot'\n",
    "  },\n",
    "  'gazpacho' : {\n",
    "    'price' : 8,\n",
    "    'best_served' : 'cold'\n",
    "  }\n",
    "}"
   ]
  },
  {
   "cell_type": "code",
   "execution_count": 60,
   "id": "53467707",
   "metadata": {},
   "outputs": [
    {
     "name": "stdout",
     "output_type": "stream",
     "text": [
      "Sushi is best served cold.\n",
      "Paella is best served hot.\n",
      "Samosa is best served hot.\n",
      "Gazpacho is best served cold.\n"
     ]
    }
   ],
   "source": [
    "# Iterate the elements of the menu\n",
    "for dish, values in my_menu.items():\n",
    "  # Print whether the dish must be served cold or hot\n",
    "  print(f\"{dish.title()} is best served {values['best_served']}.\")"
   ]
  },
  {
   "cell_type": "code",
   "execution_count": null,
   "id": "6879a68c",
   "metadata": {},
   "outputs": [],
   "source": []
  }
 ],
 "metadata": {
  "kernelspec": {
   "display_name": "Python 3 (ipykernel)",
   "language": "python",
   "name": "python3"
  },
  "language_info": {
   "codemirror_mode": {
    "name": "ipython",
    "version": 3
   },
   "file_extension": ".py",
   "mimetype": "text/x-python",
   "name": "python",
   "nbconvert_exporter": "python",
   "pygments_lexer": "ipython3",
   "version": "3.9.7"
  }
 },
 "nbformat": 4,
 "nbformat_minor": 5
}
