{
 "cells": [
  {
   "cell_type": "markdown",
   "id": "a370291d",
   "metadata": {},
   "source": [
    "# Fundamental Data Types"
   ]
  },
  {
   "cell_type": "markdown",
   "id": "b1c7be95",
   "metadata": {},
   "source": [
    "This chapter will introduce you to the fundamental Python data types - lists, sets, and strings. These data containers are critical as they provide the basis for storing and looping over ordered data. To make things interesting, you'll apply what you learn about these types to answer questions about the New York Baby Names dataset!"
   ]
  },
  {
   "cell_type": "markdown",
   "id": "1de95783",
   "metadata": {},
   "source": [
    "## Container Sequences\n",
    "Mutable (lists, sets) and immutable (tuples)"
   ]
  },
  {
   "cell_type": "markdown",
   "id": "81879054",
   "metadata": {},
   "source": [
    "# 1. Lists"
   ]
  },
  {
   "cell_type": "code",
   "execution_count": 25,
   "id": "13682206",
   "metadata": {},
   "outputs": [
    {
     "name": "stdout",
     "output_type": "stream",
     "text": [
      "['choc chip', 'peanut butter', 'sugar', 'Tirggel']\n"
     ]
    }
   ],
   "source": [
    "cookies = ['choc chip', 'peanut butter', 'sugar'] # create list\n",
    "cookies.append('Tirggel') # add item to list\n",
    "print(cookies) # print list"
   ]
  },
  {
   "cell_type": "code",
   "execution_count": 26,
   "id": "af5d6b64",
   "metadata": {},
   "outputs": [
    {
     "name": "stdout",
     "output_type": "stream",
     "text": [
      "sugar\n"
     ]
    }
   ],
   "source": [
    "print(cookies[2]) # print single element of the list"
   ]
  },
  {
   "cell_type": "markdown",
   "id": "0b16ece0",
   "metadata": {},
   "source": [
    "## Combining lists"
   ]
  },
  {
   "cell_type": "code",
   "execution_count": 27,
   "id": "29b67ec0",
   "metadata": {},
   "outputs": [
    {
     "name": "stdout",
     "output_type": "stream",
     "text": [
      "['choc chip', 'peanut butter', 'sugar', 'Tirggel', 'strawberry', 'vanilla']\n"
     ]
    }
   ],
   "source": [
    "# Using Operators\n",
    "\n",
    "cakes = ['strawberry', 'vanilla']\n",
    "\n",
    "desserts = cookies + cakes\n",
    "\n",
    "print(desserts)"
   ]
  },
  {
   "cell_type": "code",
   "execution_count": 28,
   "id": "bbb37b87",
   "metadata": {},
   "outputs": [
    {
     "name": "stdout",
     "output_type": "stream",
     "text": [
      "['choc chip', 'peanut butter', 'sugar', 'Tirggel', 'strawberry', 'vanilla']\n"
     ]
    }
   ],
   "source": [
    "# Extending the List\n",
    "\n",
    "cakes = ['strawberry', 'vanilla']\n",
    "\n",
    "cookies.extend(cakes)\n",
    "\n",
    "print(cookies)"
   ]
  },
  {
   "cell_type": "markdown",
   "id": "ce6b23a2",
   "metadata": {},
   "source": [
    "## Finding Elements in a List"
   ]
  },
  {
   "cell_type": "code",
   "execution_count": 29,
   "id": "1b14fd91",
   "metadata": {},
   "outputs": [
    {
     "name": "stdout",
     "output_type": "stream",
     "text": [
      "2\n"
     ]
    }
   ],
   "source": [
    "# Using Index\n",
    "\n",
    "position = cookies.index('sugar')\n",
    "\n",
    "print(position)"
   ]
  },
  {
   "cell_type": "markdown",
   "id": "7d958074",
   "metadata": {},
   "source": [
    "## Removing Elements from a List"
   ]
  },
  {
   "cell_type": "code",
   "execution_count": 30,
   "id": "24204f80",
   "metadata": {},
   "outputs": [
    {
     "name": "stdout",
     "output_type": "stream",
     "text": [
      "['choc chip', 'peanut butter', 'sugar', 'Tirggel', 'strawberry', 'vanilla']\n",
      "sugar\n",
      "['choc chip', 'peanut butter', 'Tirggel', 'strawberry', 'vanilla']\n"
     ]
    }
   ],
   "source": [
    "# Using POP method\n",
    "\n",
    "print(cookies) # initial list\n",
    "\n",
    "name = cookies.pop(position) # to remove element in index 2\n",
    "\n",
    "print(name) # print the element\n",
    "\n",
    "print(cookies) # print new list"
   ]
  },
  {
   "cell_type": "markdown",
   "id": "16ef097c",
   "metadata": {},
   "source": [
    "## Iterating over Lists"
   ]
  },
  {
   "cell_type": "markdown",
   "id": "4296b082",
   "metadata": {},
   "source": [
    "List comprehensions are a common way of iterating over a list to perform some action on them."
   ]
  },
  {
   "cell_type": "code",
   "execution_count": 32,
   "id": "d3ac9470",
   "metadata": {},
   "outputs": [
    {
     "name": "stdout",
     "output_type": "stream",
     "text": [
      "['Choc Chip', 'Peanut Butter', 'Tirggel', 'Strawberry', 'Vanilla']\n"
     ]
    }
   ],
   "source": [
    "# To convert each item on a list to title case\n",
    "\n",
    "titlecase_cookies = [cookie.title() for cookie in cookies]\n",
    "\n",
    "print(titlecase_cookies)"
   ]
  },
  {
   "cell_type": "markdown",
   "id": "82704af4",
   "metadata": {},
   "source": [
    "## Sorting Lists "
   ]
  },
  {
   "cell_type": "code",
   "execution_count": 34,
   "id": "7a5e525a",
   "metadata": {},
   "outputs": [
    {
     "name": "stdout",
     "output_type": "stream",
     "text": [
      "['Tirggel', 'choc chip', 'peanut butter', 'strawberry', 'vanilla']\n"
     ]
    }
   ],
   "source": [
    "# To sort list in alphabetical order\n",
    "\n",
    "sorted_cookies = sorted(cookies)\n",
    "\n",
    "print(sorted_cookies)"
   ]
  },
  {
   "cell_type": "markdown",
   "id": "a2562378",
   "metadata": {},
   "source": [
    "# Exercises"
   ]
  },
  {
   "cell_type": "markdown",
   "id": "edb64867",
   "metadata": {},
   "source": [
    "Manipulating lists for fun and profit\n",
    "\n",
    "- Create a list called baby_names with the names 'Ximena', 'Aliza', 'Ayden', and 'Calvin'.\n",
    "- Use the .extend() method on baby_names to add 'Rowen' and 'Sandeep' and print the list.\n",
    "- Use the .index() method to find the position of 'Rowen' in the list. Save the result as position.\n",
    "- Use the .pop() method with position to remove 'Rowen' from the list."
   ]
  },
  {
   "cell_type": "code",
   "execution_count": 35,
   "id": "e101aa50",
   "metadata": {},
   "outputs": [
    {
     "name": "stdout",
     "output_type": "stream",
     "text": [
      "['Ximena', 'Aliza', 'Ayden', 'Calvin', 'Sandeep']\n"
     ]
    }
   ],
   "source": [
    "# Create a list containing the names: baby_names\n",
    "baby_names = ['Ximena', 'Aliza', 'Ayden', 'Calvin']\n",
    "\n",
    "# Extend baby_names with 'Rowen' and 'Sandeep'\n",
    "other = ['Rowen','Sandeep']\n",
    "baby_names.extend(other)\n",
    "\n",
    "# Find the position of 'Rowen': position\n",
    "position = baby_names.index('Rowen')\n",
    "\n",
    "# Remove 'Rowen' from baby_names\n",
    "baby_names.pop(position)\n",
    "\n",
    "# Print baby_names\n",
    "print(baby_names)"
   ]
  },
  {
   "cell_type": "markdown",
   "id": "56428dc0",
   "metadata": {},
   "source": [
    "Looping over lists\n",
    "\n",
    "- Use a list comprehension on records to create a list called baby_names that contains the name, found in the fourth element of row.\n",
    "- Print baby_names in alphabetical order using the sorted() function."
   ]
  },
  {
   "cell_type": "code",
   "execution_count": 41,
   "id": "45468665",
   "metadata": {},
   "outputs": [
    {
     "name": "stdout",
     "output_type": "stream",
     "text": [
      "['Abigail', 'Addison', 'Amelia', 'Aubrey', 'Ava', 'Avery', 'Brooklyn', 'Charlotte', 'Chloe', 'Elizabeth', 'Ella', 'Emily', 'Emma', 'Evelyn', 'Grace', 'Harper', 'Isabella', 'Lillian', 'Madison', 'Mia', 'Natalie', 'Olivia', 'Sofia', 'Sophia', 'Victoria', 'Zoey']\n"
     ]
    }
   ],
   "source": [
    "records = [['2014', 'F', '20799', 'Emma'], ['2014', 'F', '19674', 'Olivia'], ['2014', 'F', '18490', 'Sophia'], ['2014', 'F', '16950', 'Isabella'], ['2014', 'F', '15586', 'Ava'], ['2014', 'F', '13442', 'Mia'], ['2014', 'F', '12562', 'Emily'], ['2014', 'F', '11985', 'Abigail'], ['2014', 'F', '10247', 'Madison'], ['2014', 'F', '10048', 'Charlotte'], ['2014', 'F', '9564', 'Harper'], ['2014', 'F', '9542', 'Sofia'], ['2014', 'F', '9517', 'Avery'], ['2014', 'F', '9492', 'Elizabeth'], ['2014', 'F', '8727', 'Amelia'], ['2014', 'F', '8692', 'Evelyn'], ['2014', 'F', '8489', 'Ella'], ['2014', 'F', '8469', 'Chloe'], ['2014', 'F', '7955', 'Victoria'], ['2014', 'F', '7589', 'Aubrey'], ['2014', 'F', '7554', 'Grace'], ['2014', 'F', '7358', 'Zoey'], ['2014', 'F', '7061', 'Natalie'], ['2014', 'F', '6950', 'Addison'], ['2014', 'F', '6869', 'Lillian'], ['2014', 'F', '6767', 'Brooklyn']]\n",
    "\n",
    "# Create the list comprehension: baby_names\n",
    "baby_names = [item[3] for item in records]\n",
    "    \n",
    "# Print the sorted the names in alphabetical order\n",
    "print(sorted(baby_names))"
   ]
  },
  {
   "cell_type": "markdown",
   "id": "254f7d10",
   "metadata": {},
   "source": [
    "# 2. Tuples"
   ]
  },
  {
   "cell_type": "markdown",
   "id": "fe434ad4",
   "metadata": {},
   "source": [
    "Tuples are very much like lists. They hold data in the order and we can access elements inside a tuple with an index.\n",
    "\n",
    "Tuples are easier to process and more memory efficient than lists.\n",
    "\n",
    "They are immutable - we cannot add or remove elements from them.\n",
    "\n",
    "Unpacking - used to expand the tuple into named variables that represent each element in the tuple."
   ]
  },
  {
   "cell_type": "markdown",
   "id": "059d5d01",
   "metadata": {},
   "source": [
    "## Zipping Tuples"
   ]
  },
  {
   "cell_type": "markdown",
   "id": "eefb4a41",
   "metadata": {},
   "source": [
    "Tuples are commonly created by zipping lists together with zip()."
   ]
  },
  {
   "cell_type": "code",
   "execution_count": 42,
   "id": "1c869602",
   "metadata": {},
   "outputs": [
    {
     "name": "stdout",
     "output_type": "stream",
     "text": [
      "[('Chocolate Chip', 'Punjabi'), ('Brownies', 'Fruit Cake Rusk'), ('Peanut Butter', 'Marble Cookies'), ('Oreos', 'Kaju Pista'), ('Oatmeal Raisin', 'Almond Cookies')]\n"
     ]
    }
   ],
   "source": [
    "us_cookies = ['Chocolate Chip', 'Brownies', 'Peanut Butter', 'Oreos', 'Oatmeal Raisin']\n",
    "in_cookies = ['Punjabi', 'Fruit Cake Rusk', 'Marble Cookies', 'Kaju Pista', 'Almond Cookies']\n",
    "\n",
    "top_pairs = list(zip(us_cookies, in_cookies))\n",
    "\n",
    "print(top_pairs)"
   ]
  },
  {
   "cell_type": "markdown",
   "id": "60c48f24",
   "metadata": {},
   "source": [
    "## Unpacking Tuples"
   ]
  },
  {
   "cell_type": "markdown",
   "id": "80aba594",
   "metadata": {},
   "source": [
    "It allows us to assign the elements of a tuple to a named variable for later use."
   ]
  },
  {
   "cell_type": "code",
   "execution_count": 44,
   "id": "f6c514a7",
   "metadata": {},
   "outputs": [
    {
     "name": "stdout",
     "output_type": "stream",
     "text": [
      "Chocolate Chip\n"
     ]
    }
   ],
   "source": [
    "us_num_1, in_num_1 = top_pairs[0]\n",
    "\n",
    "print(us_num_1)"
   ]
  },
  {
   "cell_type": "code",
   "execution_count": 45,
   "id": "edac456f",
   "metadata": {},
   "outputs": [
    {
     "name": "stdout",
     "output_type": "stream",
     "text": [
      "Punjabi\n"
     ]
    }
   ],
   "source": [
    "print(in_num_1)"
   ]
  },
  {
   "cell_type": "code",
   "execution_count": 46,
   "id": "55cf5156",
   "metadata": {},
   "outputs": [
    {
     "name": "stdout",
     "output_type": "stream",
     "text": [
      "Punjabi\n",
      "Chocolate Chip\n",
      "Fruit Cake Rusk\n",
      "Brownies\n",
      "Marble Cookies\n",
      "Peanut Butter\n",
      "Kaju Pista\n",
      "Oreos\n",
      "Almond Cookies\n",
      "Oatmeal Raisin\n"
     ]
    }
   ],
   "source": [
    "# Loop using tuple unpacking when iterating over the top_pairs list.\n",
    "\n",
    "for us_cookie, in_cookie in top_pairs:\n",
    "    print(in_cookie)\n",
    "    print(us_cookie)"
   ]
  },
  {
   "cell_type": "markdown",
   "id": "fd61b294",
   "metadata": {},
   "source": [
    "## Enumerating Positions"
   ]
  },
  {
   "cell_type": "markdown",
   "id": "53b671fd",
   "metadata": {},
   "source": [
    "It is used in loops to return the position and the data in the position while looping."
   ]
  },
  {
   "cell_type": "code",
   "execution_count": 47,
   "id": "4a4bf3f9",
   "metadata": {},
   "outputs": [
    {
     "name": "stdout",
     "output_type": "stream",
     "text": [
      "0 Chocolate Chip Punjabi\n",
      "1 Brownies Fruit Cake Rusk\n",
      "2 Peanut Butter Marble Cookies\n",
      "3 Oreos Kaju Pista\n",
      "4 Oatmeal Raisin Almond Cookies\n"
     ]
    }
   ],
   "source": [
    "for idx, item in enumerate(top_pairs):\n",
    "    us_cookie, in_cookie = item\n",
    "    print(idx, us_cookie, in_cookie)"
   ]
  },
  {
   "cell_type": "markdown",
   "id": "c18bd498",
   "metadata": {},
   "source": [
    "# Exercises"
   ]
  },
  {
   "cell_type": "markdown",
   "id": "603100f2",
   "metadata": {},
   "source": [
    "Using and unpacking tuples\n",
    "\n",
    "- Use the zip() function to pair up girl_names and boy_names into a variable called pairs.\n",
    "- Use a for loop to loop through pairs, using enumerate() to keep track of your position. Unpack pairs into the variables rank and pair.\n",
    "- Unpack pair into the variables girl_name and boy_name.\n",
    "- Print the rank, girl name, and boy name, in that order. The rank is contained in rank."
   ]
  },
  {
   "cell_type": "code",
   "execution_count": 48,
   "id": "c87bcca3",
   "metadata": {},
   "outputs": [
    {
     "name": "stdout",
     "output_type": "stream",
     "text": [
      "Rank 1: Jada and Josiah\n",
      "Rank 2: Emily and Ethan\n",
      "Rank 3: Ava and David\n",
      "Rank 4: Serenity and Jayden\n",
      "Rank 5: Claire and Mason\n",
      "Rank 6: Sophia and Ryan\n",
      "Rank 7: Sarah and Christian\n",
      "Rank 8: Ashley and Isaiah\n",
      "Rank 9: Chaya and Jayden\n",
      "Rank 10: Abigail and Michael\n",
      "Rank 11: Zoe and Noah\n",
      "Rank 12: Leah and Samuel\n",
      "Rank 13: Hailey and Sebastian\n",
      "Rank 14: Ava and Noah\n",
      "Rank 15: Olivia and Dylan\n",
      "Rank 16: Emma and Lucas\n",
      "Rank 17: Chloe and Joshua\n",
      "Rank 18: Sophia and Angel\n",
      "Rank 19: Aaliyah and Jacob\n",
      "Rank 20: Angela and Matthew\n",
      "Rank 21: Camila and Josiah\n",
      "Rank 22: Savannah and Jacob\n",
      "Rank 23: Serenity and Muhammad\n",
      "Rank 24: Chloe and Alexander\n",
      "Rank 25: Fatoumata and Jason\n"
     ]
    }
   ],
   "source": [
    "girl_names = ['Jada', 'Emily', 'Ava', 'Serenity', 'Claire', 'Sophia', 'Sarah', 'Ashley', 'Chaya', 'Abigail', 'Zoe', 'Leah', 'Hailey', 'Ava', 'Olivia', 'Emma', 'Chloe', 'Sophia', 'Aaliyah', 'Angela', 'Camila', 'Savannah', 'Serenity', 'Chloe', 'Fatoumata']\n",
    "boy_names = ['Josiah', 'Ethan', 'David', 'Jayden', 'Mason', 'Ryan', 'Christian', 'Isaiah', 'Jayden', 'Michael', 'Noah', 'Samuel', 'Sebastian', 'Noah', 'Dylan', 'Lucas', 'Joshua', 'Angel', 'Jacob', 'Matthew', 'Josiah', 'Jacob', 'Muhammad', 'Alexander', 'Jason']\n",
    "\n",
    "# Pair up the girl and boy names: pairs\n",
    "pairs = zip(girl_names, boy_names)\n",
    "\n",
    "# Iterate over pairs\n",
    "for rank, pair in enumerate(pairs):\n",
    "    # Unpack pair: girl_name, boy_name\n",
    "    girl_name, boy_name = pair\n",
    "    # Print the rank and names associated with each rank\n",
    "    print(f'Rank {rank+1}: {girl_name} and {boy_name}')\n"
   ]
  },
  {
   "cell_type": "markdown",
   "id": "8ec09e89",
   "metadata": {},
   "source": [
    "Making tuples by accident\n",
    "\n",
    "- Create a variable named normal and set it equal to 'simple'.\n",
    "- Create a variable named error and set it equal to 'trailing comma',.\n",
    "- Print the type of the normal and error variables."
   ]
  },
  {
   "cell_type": "code",
   "execution_count": 49,
   "id": "fac274d1",
   "metadata": {},
   "outputs": [
    {
     "name": "stdout",
     "output_type": "stream",
     "text": [
      "<class 'str'>\n",
      "<class 'tuple'>\n"
     ]
    }
   ],
   "source": [
    "# Create the normal variable: normal\n",
    "normal = 'simple'\n",
    "\n",
    "# Create the mistaken variable: error\n",
    "error = 'trailing comma',\n",
    "\n",
    "# Print the types of the variables\n",
    "print(type(normal))\n",
    "print(type(error))"
   ]
  },
  {
   "cell_type": "markdown",
   "id": "119a198a",
   "metadata": {},
   "source": [
    "# 3. Strings"
   ]
  },
  {
   "cell_type": "markdown",
   "id": "9d865115",
   "metadata": {},
   "source": [
    "* f-strings are formatted string literals"
   ]
  },
  {
   "cell_type": "code",
   "execution_count": 50,
   "id": "b3362189",
   "metadata": {},
   "outputs": [
    {
     "name": "stdout",
     "output_type": "stream",
     "text": [
      "Each Anzac cookie costs $1.99.\n"
     ]
    }
   ],
   "source": [
    "cookie_name = 'Anzac'\n",
    "cookie_price = '$1.99'\n",
    "\n",
    "print(f\"Each { cookie_name } cookie costs { cookie_price }.\")"
   ]
  },
  {
   "cell_type": "markdown",
   "id": "360b3c74",
   "metadata": {},
   "source": [
    "* joining strings with \"\".join()"
   ]
  },
  {
   "cell_type": "code",
   "execution_count": 51,
   "id": "9866f88d",
   "metadata": {},
   "outputs": [
    {
     "name": "stdout",
     "output_type": "stream",
     "text": [
      "3, 4, 7, 8\n"
     ]
    }
   ],
   "source": [
    "child_ages = ['3', '4', '7', '8']\n",
    "\n",
    "print(\", \".join(child_ages))"
   ]
  },
  {
   "cell_type": "code",
   "execution_count": 53,
   "id": "c679dc83",
   "metadata": {},
   "outputs": [
    {
     "name": "stdout",
     "output_type": "stream",
     "text": [
      "The children are ages 3,4,7, and 8.\n"
     ]
    }
   ],
   "source": [
    "print(f\"The children are ages {','.join(child_ages[0:3])}, and {child_ages[-1]}.\")"
   ]
  },
  {
   "cell_type": "markdown",
   "id": "6c120d4a",
   "metadata": {},
   "source": [
    "* Matching parts of a string with .startswith() and .endswith() - case sensitive"
   ]
  },
  {
   "cell_type": "code",
   "execution_count": 54,
   "id": "c7e8101b",
   "metadata": {},
   "outputs": [
    {
     "name": "stdout",
     "output_type": "stream",
     "text": [
      "['Ahmed']\n"
     ]
    }
   ],
   "source": [
    "boy_names = ['Mohamed', 'Youssef', 'Ahmed']\n",
    "print([name for name in boy_names if name.startswith('A')])"
   ]
  },
  {
   "cell_type": "markdown",
   "id": "32657f37",
   "metadata": {},
   "source": [
    "* Using in operator - case sensitive"
   ]
  },
  {
   "cell_type": "markdown",
   "id": "0fbfc07f",
   "metadata": {},
   "source": [
    "'long' in 'Life is a long lesson in humility'"
   ]
  },
  {
   "cell_type": "code",
   "execution_count": 56,
   "id": "0e933905",
   "metadata": {},
   "outputs": [
    {
     "data": {
      "text/plain": [
       "True"
      ]
     },
     "execution_count": 56,
     "metadata": {},
     "output_type": "execute_result"
    }
   ],
   "source": [
    "'long' in 'Life is a long lesson in humility'.lower()"
   ]
  },
  {
   "cell_type": "markdown",
   "id": "1201f16e",
   "metadata": {},
   "source": [
    "# Exercises"
   ]
  },
  {
   "cell_type": "markdown",
   "id": "9b526633",
   "metadata": {},
   "source": [
    "Formatted String Literals (\"f\" strings)\n",
    "\n",
    "- Loop over the top_ten_girl_names list and use tuple unpacking to get the top_ten_rank and name.\n",
    "- Print out each rank and name like this Rank #: 1 - Jada where the number 1 is the rank and Jada is the name."
   ]
  },
  {
   "cell_type": "code",
   "execution_count": 57,
   "id": "99ef1445",
   "metadata": {},
   "outputs": [
    {
     "name": "stdout",
     "output_type": "stream",
     "text": [
      "Rank #: 1 - Jada\n",
      "Rank #: 2 - Emily\n",
      "Rank #: 3 - Ava\n",
      "Rank #: 4 - Serenity\n",
      "Rank #: 5 - Claire\n",
      "Rank #: 6 - Sophia\n",
      "Rank #: 7 - Sarah\n",
      "Rank #: 8 - Ashley\n",
      "Rank #: 9 - Chaya\n",
      "Rank #: 10 - Abigail\n"
     ]
    }
   ],
   "source": [
    "top_ten_girl_names = [(1, 'Jada'), (2, 'Emily'), (3, 'Ava'), (4, 'Serenity'), (5, 'Claire'), (6, 'Sophia'), (7, 'Sarah'), (8, 'Ashley'), (9, 'Chaya'), (10, 'Abigail')]\n",
    "\n",
    "# Loop over top_ten_girl_names and unpack each tuple into top_ten_rank and name\n",
    "for top_ten_rank, name in top_ten_girl_names:\n",
    "  \t# Print each name in the proper format\n",
    "    print(f\"Rank #: { top_ten_rank } - { name }\")"
   ]
  },
  {
   "cell_type": "markdown",
   "id": "147a5efe",
   "metadata": {},
   "source": [
    "Combining multiple strings\n",
    "\n",
    "- Make a string that contains: The top ten boy names are: and store it as preamble.\n",
    "- Make a string that contains: , and and store it as conjunction.\n",
    "- Make a string that combines the first 9 names in boy_names list with a comma and store it as first_nine_names.\n",
    "- Make an f-string that contains preamble, first_nine_names, conjunction, the final item in boy_names and a period."
   ]
  },
  {
   "cell_type": "code",
   "execution_count": 59,
   "id": "1cc45273",
   "metadata": {},
   "outputs": [
    {
     "name": "stdout",
     "output_type": "stream",
     "text": [
      "The top ten boy names are: Mohamed, Youssef, Ahmed, and Ahmed.\n"
     ]
    }
   ],
   "source": [
    "# The top ten boy names are: as preamble\n",
    "preamble = \"The top ten boy names are: \"\n",
    "\n",
    "# , and as conjunction\n",
    "conjunction = \", and\"\n",
    "\n",
    "# Combines the first 9 names in boy_names with a comma and space as first_nine_names\n",
    "first_nine_names = \", \".join(boy_names[0:9])\n",
    "\n",
    "# Print f-string preamble, first_nine_names, conjunction, the final item in boy_names and a period\n",
    "print(f\"{preamble}{first_nine_names}{conjunction} {boy_names[-1]}.\")"
   ]
  },
  {
   "cell_type": "markdown",
   "id": "3e9f615f",
   "metadata": {},
   "source": [
    "Finding strings in other strings\n",
    "\n",
    "- Store and print a list of girl_names that start with s.\n",
    "- Store and print a list of girl_names with angel in them."
   ]
  },
  {
   "cell_type": "code",
   "execution_count": 60,
   "id": "2813ccff",
   "metadata": {},
   "outputs": [
    {
     "name": "stdout",
     "output_type": "stream",
     "text": [
      "['Serenity', 'Sophia', 'Sarah', 'Sophia', 'Savannah', 'Serenity']\n",
      "['Angela']\n"
     ]
    }
   ],
   "source": [
    "# Store a list of girl_names that start with s: names_with_s\n",
    "names_with_s = [name for name in girl_names if name.lower().startswith('s')]\n",
    "\n",
    "print(names_with_s)\n",
    "\n",
    "# Store a list of girl_names that contain angel: names_with_angel\n",
    "names_with_angel = [name for name in girl_names if 'angel' in name.lower()]\n",
    "print(names_with_angel)"
   ]
  },
  {
   "cell_type": "code",
   "execution_count": null,
   "id": "a69085d7",
   "metadata": {},
   "outputs": [],
   "source": []
  }
 ],
 "metadata": {
  "kernelspec": {
   "display_name": "Python 3 (ipykernel)",
   "language": "python",
   "name": "python3"
  },
  "language_info": {
   "codemirror_mode": {
    "name": "ipython",
    "version": 3
   },
   "file_extension": ".py",
   "mimetype": "text/x-python",
   "name": "python",
   "nbconvert_exporter": "python",
   "pygments_lexer": "ipython3",
   "version": "3.9.7"
  }
 },
 "nbformat": 4,
 "nbformat_minor": 5
}
