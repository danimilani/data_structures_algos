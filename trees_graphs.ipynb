{
 "cells": [
  {
   "cell_type": "markdown",
   "id": "6636c0ed",
   "metadata": {},
   "source": [
    "# Trees and Graphs"
   ]
  },
  {
   "cell_type": "markdown",
   "id": "a3bb37bc",
   "metadata": {},
   "source": [
    "Trees are node-based data structures and each node can have links to more than one node."
   ]
  },
  {
   "cell_type": "code",
   "execution_count": 4,
   "id": "fa4e0223",
   "metadata": {},
   "outputs": [],
   "source": [
    "# Trees - Binary Tree Implementation\n",
    "\n",
    "class TreeNode:\n",
    "    \n",
    "    def __init__(self, data, left=None, right=None):\n",
    "        self.data = data\n",
    "        self.left_child = left\n",
    "        self.right_child = right    "
   ]
  },
  {
   "cell_type": "code",
   "execution_count": 5,
   "id": "f6266c97",
   "metadata": {},
   "outputs": [],
   "source": [
    "node1 = TreeNode(\"B\")\n",
    "node2 = TreeNode(\"C\")\n",
    "root_node = TreeNode(\"A\", node1, node2)"
   ]
  },
  {
   "cell_type": "markdown",
   "id": "9f659e3c",
   "metadata": {},
   "source": [
    "Graphs are data structures formed by a set of nodes/vertices which are connected by links/edges."
   ]
  },
  {
   "cell_type": "markdown",
   "id": "01ac5ba1",
   "metadata": {},
   "source": [
    "They can be directed (when they have a specific direction) or undirected (when they don't have a direction) and weighted (when there are numeric values associated with the nodes)."
   ]
  },
  {
   "cell_type": "code",
   "execution_count": 7,
   "id": "951ce8b3",
   "metadata": {},
   "outputs": [],
   "source": [
    "# Graphs - Implementation\n",
    "\n",
    "class Graph:\n",
    "    def __init__(self):\n",
    "        self.vertices = {}\n",
    "        \n",
    "    def add_vertex(self, vertex):\n",
    "        self.vertices[vertex] = []\n",
    "    \n",
    "    def add_edge(self, source, target):\n",
    "        self.vertices[source].append(target)"
   ]
  },
  {
   "cell_type": "code",
   "execution_count": 9,
   "id": "499d6711",
   "metadata": {},
   "outputs": [],
   "source": [
    "my_graph = Graph()\n",
    "my_graph.add_vertex('David')\n",
    "my_graph.add_vertex('Mirian')\n",
    "my_graph.add_vertex('Martin')\n",
    "\n",
    "my_graph.add_edge('David', 'Mirian')\n",
    "my_graph.add_edge('David', 'Martin')\n",
    "my_graph.add_edge('Mirian', 'Martin')"
   ]
  },
  {
   "cell_type": "code",
   "execution_count": 10,
   "id": "d284765c",
   "metadata": {},
   "outputs": [
    {
     "name": "stdout",
     "output_type": "stream",
     "text": [
      "{'David': ['Mirian', 'Martin'], 'Mirian': ['Martin'], 'Martin': []}\n"
     ]
    }
   ],
   "source": [
    "print(my_graph.vertices)"
   ]
  },
  {
   "cell_type": "markdown",
   "id": "d9698b63",
   "metadata": {},
   "source": [
    "## Exercises"
   ]
  },
  {
   "cell_type": "markdown",
   "id": "31f6b75b",
   "metadata": {},
   "source": [
    "Correcting bugs in a tree implementation"
   ]
  },
  {
   "cell_type": "code",
   "execution_count": null,
   "id": "9016b21f",
   "metadata": {},
   "outputs": [],
   "source": [
    "class TreeNode:\n",
    "  \n",
    "  def __init__(self, data, left=None, right=None):\n",
    "    # Correct the mistakes\n",
    "    self.data = None\n",
    "    self.left_child = None\n",
    "    self.right_child = None\n",
    "\n",
    "node1 = TreeNode(\"B\")\n",
    "node2 = TreeNode(\"C\")\n",
    "# Correct the mistake\n",
    "root_node = TreeNode(node1, node2, \"A\")"
   ]
  },
  {
   "cell_type": "code",
   "execution_count": 12,
   "id": "bf81a846",
   "metadata": {},
   "outputs": [],
   "source": [
    "# Correct the mistakes in the init() method.\n",
    "# Correct the mistake in the creation of the root_node."
   ]
  },
  {
   "cell_type": "code",
   "execution_count": 13,
   "id": "48ffd8da",
   "metadata": {},
   "outputs": [],
   "source": [
    "class TreeNode:\n",
    "  \n",
    "  def __init__(self, data, left=None, right=None):\n",
    "    # Correct the mistakes\n",
    "    self.data = data\n",
    "    self.left_child = left\n",
    "    self.right_child = right\n",
    "\n",
    "node1 = TreeNode(\"B\")\n",
    "node2 = TreeNode(\"C\")\n",
    "# Correct the mistake\n",
    "root_node = TreeNode(\"A\", node1, node2)"
   ]
  },
  {
   "cell_type": "markdown",
   "id": "0ca74249",
   "metadata": {},
   "source": [
    "Building a weighted graph"
   ]
  },
  {
   "cell_type": "markdown",
   "id": "d5ce3012",
   "metadata": {},
   "source": [
    "This exercise has two steps. In the first one, you will modify this code so that it can be used to create a weighted graph. To do this, you can use a hash table to represent the adjacent vertices with their weights. In the second step, you will build the following weighted graph."
   ]
  },
  {
   "cell_type": "code",
   "execution_count": 14,
   "id": "418e0f20",
   "metadata": {},
   "outputs": [],
   "source": [
    "# Set the data for the vertex.\n",
    "# Set the weight."
   ]
  },
  {
   "cell_type": "code",
   "execution_count": 15,
   "id": "05e984c0",
   "metadata": {},
   "outputs": [],
   "source": [
    "class WeightedGraph:\n",
    "  def __init__(self):\n",
    "    self.vertices = {}\n",
    "  \n",
    "  def add_vertex(self, vertex):\n",
    "    # Set the data for the vertex\n",
    "    self.vertices[vertex] = []\n",
    "    \n",
    "  def add_edge(self, source, target, weight):\n",
    "    # Set the weight\n",
    "    self.vertices[source].append([target, weight])"
   ]
  },
  {
   "cell_type": "code",
   "execution_count": 16,
   "id": "303ff1c7",
   "metadata": {},
   "outputs": [],
   "source": [
    "# Create the vertices for the cities.\n",
    "# Create the adjacent vertices for the cities."
   ]
  },
  {
   "cell_type": "code",
   "execution_count": 17,
   "id": "b1014c9a",
   "metadata": {},
   "outputs": [],
   "source": [
    "my_graph = WeightedGraph()\n",
    "\n",
    "# Create the vertices\n",
    "my_graph.add_vertex('Paris')\n",
    "my_graph.add_vertex('Toulouse')\n",
    "my_graph.add_vertex('Biarritz')\n",
    "\n",
    "# Create the edges\n",
    "my_graph.add_edge('Paris', 'Toulouse', 678)\n",
    "my_graph.add_edge('Toulouse', 'Biarritz', 312)\n",
    "my_graph.add_edge('Biarritz', 'Paris', 783)"
   ]
  },
  {
   "cell_type": "markdown",
   "id": "7c0dc33d",
   "metadata": {},
   "source": [
    "## Understanding Recursion"
   ]
  },
  {
   "cell_type": "markdown",
   "id": "0eb72ce6",
   "metadata": {},
   "source": [
    "It is a function that calls itself."
   ]
  },
  {
   "cell_type": "code",
   "execution_count": 18,
   "id": "7020e0f4",
   "metadata": {},
   "outputs": [],
   "source": [
    "# Example - Factorial"
   ]
  },
  {
   "cell_type": "code",
   "execution_count": 19,
   "id": "fcd81369",
   "metadata": {},
   "outputs": [],
   "source": [
    "# 5! = 5*4*3*2*1 = 120\n",
    "\n",
    "def factorial(n):\n",
    "    result = 1\n",
    "    while n > 1:\n",
    "        result = n * result\n",
    "        n -= 1\n",
    "    return result"
   ]
  },
  {
   "cell_type": "code",
   "execution_count": 20,
   "id": "02533f78",
   "metadata": {},
   "outputs": [
    {
     "data": {
      "text/plain": [
       "120"
      ]
     },
     "execution_count": 20,
     "metadata": {},
     "output_type": "execute_result"
    }
   ],
   "source": [
    "factorial(5)"
   ]
  },
  {
   "cell_type": "code",
   "execution_count": 21,
   "id": "f8f8b51e",
   "metadata": {},
   "outputs": [],
   "source": [
    "# Factorial using Recursion"
   ]
  },
  {
   "cell_type": "code",
   "execution_count": 5,
   "id": "55f048df",
   "metadata": {},
   "outputs": [],
   "source": [
    "# n! = n * (n-1)!\n",
    "# n = 1 is the base case / condition\n",
    "\n",
    "def factorial_recursion(n):\n",
    "    if n == 1: # add a condition to avoid algo to run forever\n",
    "        return 1\n",
    "    else:\n",
    "        return n * factorial_recursion(n-1)"
   ]
  },
  {
   "cell_type": "code",
   "execution_count": 6,
   "id": "668edbe5",
   "metadata": {},
   "outputs": [
    {
     "name": "stdout",
     "output_type": "stream",
     "text": [
      "120\n"
     ]
    }
   ],
   "source": [
    "print(factorial_recursion(5))"
   ]
  },
  {
   "cell_type": "markdown",
   "id": "db73c390",
   "metadata": {},
   "source": [
    "## Exercises"
   ]
  },
  {
   "cell_type": "markdown",
   "id": "016f1d95",
   "metadata": {},
   "source": [
    "Fibonacci sequence"
   ]
  },
  {
   "cell_type": "markdown",
   "id": "9e146627",
   "metadata": {},
   "source": [
    "In this exercise, you will implement the Fibonacci sequence, which is ubiquitous in nature. The sequence looks like this: \"0, 1, 1, 2, 3, 5, 8…\". You will create a recursive implementation of an algorithm that generates the sequence.\n",
    "\n",
    "The first numbers are 0 and 1, and the rest are the sum of the two preceding numbers."
   ]
  },
  {
   "cell_type": "markdown",
   "id": "0bb2bead",
   "metadata": {},
   "source": [
    "In the first step, you will code Fibonacci using recursion. In the second step, you will improve it by using dynamic programming, saving the solutions of the subproblems in the cache variable."
   ]
  },
  {
   "cell_type": "code",
   "execution_count": 7,
   "id": "60736340",
   "metadata": {},
   "outputs": [],
   "source": [
    "# Define the base case. Call the fibonacci() function recursively."
   ]
  },
  {
   "cell_type": "code",
   "execution_count": 8,
   "id": "11222037",
   "metadata": {},
   "outputs": [
    {
     "name": "stdout",
     "output_type": "stream",
     "text": [
      "8\n"
     ]
    }
   ],
   "source": [
    "def fibonacci(n):\n",
    "  # Define the base case\n",
    "  if n <= 1:\n",
    "    return n\n",
    "  else:\n",
    "    # Call recursively to fibonacci\n",
    "    return fibonacci(n - 1) + fibonacci(n - 2)\n",
    "\n",
    "print(fibonacci(6))"
   ]
  },
  {
   "cell_type": "code",
   "execution_count": 9,
   "id": "23107f90",
   "metadata": {},
   "outputs": [],
   "source": [
    "# Check if the value exists in cache. Save the result in cache to \n",
    "# avoid recalculating it later."
   ]
  },
  {
   "cell_type": "code",
   "execution_count": 10,
   "id": "bf5defda",
   "metadata": {},
   "outputs": [
    {
     "name": "stdout",
     "output_type": "stream",
     "text": [
      "8\n"
     ]
    }
   ],
   "source": [
    "cache = [None]*(100)\n",
    "\n",
    "def fibonacci(n): \n",
    "    if n <= 1:\n",
    "        return n\n",
    "    \n",
    "    # Check if the value exists\n",
    "    if not cache[n]:\n",
    "        # Save the result in cache\n",
    "        cache[n] = fibonacci(n-1) + fibonacci(n-2)\n",
    "    \n",
    "    return cache[n]\n",
    "    \n",
    "\n",
    "print(fibonacci(6))"
   ]
  },
  {
   "cell_type": "markdown",
   "id": "7b39f4e8",
   "metadata": {},
   "source": [
    "Towers of Hanoi"
   ]
  },
  {
   "cell_type": "markdown",
   "id": "b6cd9011",
   "metadata": {},
   "source": [
    "In this exercise, you will implement the Towers of Hanoi puzzle with a recursive algorithm. The aim of this game is to transfer all the disks from one of the three rods to another, following these rules:\n",
    "\n",
    "You can only move one disk at a time.\n",
    "You can only take the upper disk from one of the stacks and place it on top of another stack.\n",
    "You cannot put a larger disk on top of a smaller one."
   ]
  },
  {
   "cell_type": "markdown",
   "id": "cf0428b4",
   "metadata": {},
   "source": [
    "The algorithm shown is an implementation of this game with four disks and three rods called 'A', 'B' and 'C'. The code contains two mistakes. In fact, if you execute it, it crashes the console because it exceeds the maximum recursion depth. Can you find the bugs and fix them?"
   ]
  },
  {
   "cell_type": "code",
   "execution_count": 11,
   "id": "0f044613",
   "metadata": {},
   "outputs": [
    {
     "name": "stdout",
     "output_type": "stream",
     "text": [
      "Moving disk 1 from rod A to rod B\n",
      "Moving disk 2 from rod A to rod C\n",
      "Moving disk 1 from rod B to rod C\n",
      "Moving disk 3 from rod A to rod B\n",
      "Moving disk 1 from rod C to rod A\n",
      "Moving disk 2 from rod C to rod B\n",
      "Moving disk 1 from rod A to rod B\n",
      "Moving disk 4 from rod A to rod C\n",
      "Moving disk 1 from rod B to rod C\n",
      "Moving disk 2 from rod B to rod A\n",
      "Moving disk 1 from rod C to rod A\n",
      "Moving disk 3 from rod B to rod C\n",
      "Moving disk 1 from rod A to rod B\n",
      "Moving disk 2 from rod A to rod C\n",
      "Moving disk 1 from rod B to rod C\n"
     ]
    }
   ],
   "source": [
    "def hanoi(num_disks, from_rod, to_rod, aux_rod):\n",
    "  # Correct the base case\n",
    "  if num_disks >= 1:\n",
    "    # Correct the calls to the hanoi function\n",
    "    hanoi(num_disks - 1, from_rod, aux_rod, to_rod)\n",
    "    print(\"Moving disk\", num_disks, \"from rod\", from_rod,\"to rod\",to_rod)\n",
    "    hanoi(num_disks - 1, aux_rod, to_rod, from_rod)   \n",
    "\n",
    "num_disks = 4\n",
    "source_rod = 'A'\n",
    "auxiliar_rod = 'B'\n",
    "target_rod = 'C'\n",
    "\n",
    "hanoi(num_disks, source_rod, target_rod, auxiliar_rod)"
   ]
  },
  {
   "cell_type": "code",
   "execution_count": null,
   "id": "f4f72b11",
   "metadata": {},
   "outputs": [],
   "source": []
  }
 ],
 "metadata": {
  "kernelspec": {
   "display_name": "Python 3 (ipykernel)",
   "language": "python",
   "name": "python3"
  },
  "language_info": {
   "codemirror_mode": {
    "name": "ipython",
    "version": 3
   },
   "file_extension": ".py",
   "mimetype": "text/x-python",
   "name": "python",
   "nbconvert_exporter": "python",
   "pygments_lexer": "ipython3",
   "version": "3.9.7"
  }
 },
 "nbformat": 4,
 "nbformat_minor": 5
}
