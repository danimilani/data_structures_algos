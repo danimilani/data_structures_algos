{
 "cells": [
  {
   "cell_type": "markdown",
   "id": "8dc2137a",
   "metadata": {},
   "source": [
    "# COURSE - DATA STRUCTURES AND ALGORITHMS"
   ]
  },
  {
   "cell_type": "markdown",
   "id": "6f303715",
   "metadata": {},
   "source": [
    "## Linked Lists - Node Class"
   ]
  },
  {
   "cell_type": "markdown",
   "id": "99bbacbc",
   "metadata": {},
   "source": [
    "Every time a class is instantiated, the init method is called.\n",
    "\n",
    "INIT create two attributes:\n",
    "\n",
    "1. DATA - contains the value for the node\n",
    "2. NEXT - points to the next node"
   ]
  },
  {
   "cell_type": "code",
   "execution_count": null,
   "id": "4eca7932",
   "metadata": {},
   "outputs": [],
   "source": [
    "class Node:\n",
    "    def __init__(self, data):\n",
    "        self.data = data\n",
    "        self.next = None"
   ]
  },
  {
   "cell_type": "markdown",
   "id": "4161cd47",
   "metadata": {},
   "source": [
    "Creating another class called LINKEDLIST which will eventually contain nodes."
   ]
  },
  {
   "cell_type": "code",
   "execution_count": null,
   "id": "9506a0ef",
   "metadata": {},
   "outputs": [],
   "source": [
    "class LinkedList:\n",
    "    def __init__(self):\n",
    "        self.head = None\n",
    "        self.tail = None"
   ]
  },
  {
   "cell_type": "markdown",
   "id": "83cded09",
   "metadata": {},
   "source": [
    "We can implement methods to insert or remove nodes:\n",
    "\n",
    "insert_at_beginning(), insert_at_end(), insert_at()\n",
    "\n",
    "remove_at_beginning(), remove_at_end(), remove_at()"
   ]
  },
  {
   "cell_type": "markdown",
   "id": "699762a5",
   "metadata": {},
   "source": [
    "### Adding Nodes"
   ]
  },
  {
   "cell_type": "code",
   "execution_count": null,
   "id": "30cc40de",
   "metadata": {},
   "outputs": [],
   "source": [
    "def insert_at_beginning(self,data):\n",
    "    new_node = Node(data) # create a new node\n",
    "    if self.head: # check if the list is empty by checking if there is a head node.\n",
    "        new_node.next = self.head\n",
    "        self.head = new_node # if there is, new node becomes the head\n",
    "    else: # if the list is empty, new_node becomes head and tail\n",
    "        self.tail = new_node\n",
    "        self.head = new_node\n",
    "        \n",
    "def insert_at_end(self,data):\n",
    "    new_node = Node(data) # create a new node\n",
    "    if self.head:\n",
    "        self.tail.next = new_node # if the list is not empty, the next node will be new_node\n",
    "        self.tail = new_node # and the new_node will become the tail\n",
    "    else: # if the list is empty, new_node becomes head and tail\n",
    "        self.tail = new_node\n",
    "        self.head = new_node"
   ]
  },
  {
   "cell_type": "markdown",
   "id": "19ea53bf",
   "metadata": {},
   "source": [
    "### Search for Values in Linked List"
   ]
  },
  {
   "cell_type": "code",
   "execution_count": 1,
   "id": "7f7300a2",
   "metadata": {},
   "outputs": [],
   "source": [
    "def search(self,data):\n",
    "    current_node = self.head\n",
    "    while current_node:\n",
    "        if current_node.data == data: # check if node contains the data we are searching for\n",
    "            return True\n",
    "        else:\n",
    "            current_node = current_node.next # go to the next node until find the data we are searching for\n",
    "            return False # in case you dont find the data"
   ]
  },
  {
   "cell_type": "markdown",
   "id": "3dcadc0a",
   "metadata": {},
   "source": [
    "#### EXERCISES"
   ]
  },
  {
   "cell_type": "markdown",
   "id": "2f7e6c02",
   "metadata": {},
   "source": [
    "1. Implementing a linked list"
   ]
  },
  {
   "cell_type": "code",
   "execution_count": null,
   "id": "4b6e0ffb",
   "metadata": {},
   "outputs": [],
   "source": [
    "# Create a node and store the value\n",
    "\n",
    "class Node:\n",
    "  def __init__(self, data):\n",
    "    self.value = data # store the value\n",
    "    # Leave the node initially without a next value\n",
    "    self.next = None"
   ]
  },
  {
   "cell_type": "code",
   "execution_count": null,
   "id": "595afa04",
   "metadata": {},
   "outputs": [],
   "source": [
    "# Instantiate your LinkedList() without a head and tail.\n",
    "\n",
    "class LinkedList:\n",
    "  def __init__(self):\n",
    "    # Set the head and the tail with null values\n",
    "    self.head = None\n",
    "    self.tail = None"
   ]
  },
  {
   "cell_type": "markdown",
   "id": "c87d9f5f",
   "metadata": {},
   "source": [
    "These will be the building blocks for inserting and removing nodes in the following exercises."
   ]
  },
  {
   "cell_type": "markdown",
   "id": "5057efd8",
   "metadata": {},
   "source": [
    "2. Inserting a node at the beginning of a linked list\n",
    "\n",
    "- Create the new node.\n",
    "\n",
    "- Check whether the linked list has a head node.\n",
    "\n",
    "- If the linked list has a head node, point the next node of the new node to the head."
   ]
  },
  {
   "cell_type": "code",
   "execution_count": 3,
   "id": "6ea9cf72",
   "metadata": {},
   "outputs": [],
   "source": [
    "def insert_at_beginning(self, data):\n",
    "    # Create the new node\n",
    "    new_node = Node(data)\n",
    "    # Check whether the linked list has a head node\n",
    "    if self.head:\n",
    "      # Point the next node of the new node to the head\n",
    "      new_node.next = self.head\n",
    "      self.head = new_node\n",
    "    else:\n",
    "      self.tail = new_node      \n",
    "      self.head = new_node"
   ]
  },
  {
   "cell_type": "markdown",
   "id": "0ab3c5e1",
   "metadata": {},
   "source": [
    "3. Removing the first node from a linked list\n",
    "\n",
    "In this exercise, you will prepare the code for the remove_at_beginning() method. To do it, you will need to point the head of the linked list to the next node of the head."
   ]
  },
  {
   "cell_type": "code",
   "execution_count": null,
   "id": "cbe79eb8",
   "metadata": {},
   "outputs": [],
   "source": [
    "class LinkedList:\n",
    "  def __init__(self):\n",
    "    self.head = None\n",
    "    self.tail = None\n",
    "    \n",
    "  def remove_at_beginning(self):\n",
    "    # The \"next\" node of the head becomes the new head node\n",
    "    self.head = self.head.next"
   ]
  },
  {
   "cell_type": "markdown",
   "id": "3f0743d7",
   "metadata": {},
   "source": [
    "## Big O Notation"
   ]
  },
  {
   "cell_type": "markdown",
   "id": "0ecf359f",
   "metadata": {},
   "source": [
    "O(1) Example - the number of operations remain constant, even if we add more inputs (colors on the list)"
   ]
  },
  {
   "cell_type": "code",
   "execution_count": 5,
   "id": "2b5a6ae8",
   "metadata": {},
   "outputs": [
    {
     "name": "stdout",
     "output_type": "stream",
     "text": [
      "blue\n"
     ]
    }
   ],
   "source": [
    "colors = ['green', 'yellow', 'blue', 'pink']\n",
    "\n",
    "def constant(colors):\n",
    "    print(colors[2]) # the function performs just one operation\n",
    "    \n",
    "constant(colors)"
   ]
  },
  {
   "cell_type": "code",
   "execution_count": 6,
   "id": "6e152b55",
   "metadata": {},
   "outputs": [
    {
     "name": "stdout",
     "output_type": "stream",
     "text": [
      "blue\n"
     ]
    }
   ],
   "source": [
    "colors = ['green', 'yellow', 'blue', 'pink', 'orange', 'purple', 'red']\n",
    "\n",
    "def constant(colors):\n",
    "    print(colors[2]) # the function performs just one operation\n",
    "    \n",
    "constant(colors)"
   ]
  },
  {
   "cell_type": "markdown",
   "id": "0aa1f7dc",
   "metadata": {},
   "source": [
    "O(n) Example - linear, the number of operations increases proportionally to the inputs.\n",
    "\n",
    "When you have 4 elements, you perform 4 print operations\n",
    "\n",
    "When you have 7 elements, you perform 7 print operations\n",
    "\n",
    "And so on..."
   ]
  },
  {
   "cell_type": "code",
   "execution_count": 7,
   "id": "2270f453",
   "metadata": {},
   "outputs": [
    {
     "name": "stdout",
     "output_type": "stream",
     "text": [
      "green\n",
      "yellow\n",
      "blue\n",
      "pink\n"
     ]
    }
   ],
   "source": [
    "colors = ['green', 'yellow', 'blue', 'pink']\n",
    "\n",
    "def linear (colors):\n",
    "    for color in colors: # look iterates over the list\n",
    "        print(color)\n",
    "    \n",
    "linear(colors)"
   ]
  },
  {
   "cell_type": "code",
   "execution_count": 8,
   "id": "41397927",
   "metadata": {},
   "outputs": [
    {
     "name": "stdout",
     "output_type": "stream",
     "text": [
      "green\n",
      "yellow\n",
      "blue\n",
      "pink\n",
      "orange\n",
      "purple\n",
      "red\n"
     ]
    }
   ],
   "source": [
    "colors = ['green', 'yellow', 'blue', 'pink', 'orange', 'purple', 'red']\n",
    "\n",
    "def linear (colors):\n",
    "    for color in colors: # look iterates over the list\n",
    "        print(color)\n",
    "    \n",
    "linear(colors)"
   ]
  },
  {
   "cell_type": "markdown",
   "id": "82c58966",
   "metadata": {},
   "source": [
    "O(n2) - quadratic time. \n",
    "\n",
    "It combines the first element of the list with the next one and loops it through.\n",
    "\n",
    "If you have 3 elements, you perform 9 operations (3x3)\n",
    "\n",
    "If you have 100 elements, you perform 10,000 operations (100x100)"
   ]
  },
  {
   "cell_type": "code",
   "execution_count": 9,
   "id": "c6529a05",
   "metadata": {},
   "outputs": [
    {
     "name": "stdout",
     "output_type": "stream",
     "text": [
      "green green\n",
      "green yellow\n",
      "green blue\n",
      "green pink\n",
      "yellow green\n",
      "yellow yellow\n",
      "yellow blue\n",
      "yellow pink\n",
      "blue green\n",
      "blue yellow\n",
      "blue blue\n",
      "blue pink\n",
      "pink green\n",
      "pink yellow\n",
      "pink blue\n",
      "pink pink\n"
     ]
    }
   ],
   "source": [
    "colors = ['green', 'yellow', 'blue', 'pink']\n",
    "\n",
    "def quadratic (colors): # nested loop\n",
    "    for first in colors:\n",
    "        for second in colors:\n",
    "            print(first, second)\n",
    "            \n",
    "quadratic(colors)"
   ]
  },
  {
   "cell_type": "code",
   "execution_count": 10,
   "id": "ff701c1b",
   "metadata": {},
   "outputs": [
    {
     "name": "stdout",
     "output_type": "stream",
     "text": [
      "green green\n",
      "green yellow\n",
      "green blue\n",
      "green pink\n",
      "green orange\n",
      "green purple\n",
      "green red\n",
      "yellow green\n",
      "yellow yellow\n",
      "yellow blue\n",
      "yellow pink\n",
      "yellow orange\n",
      "yellow purple\n",
      "yellow red\n",
      "blue green\n",
      "blue yellow\n",
      "blue blue\n",
      "blue pink\n",
      "blue orange\n",
      "blue purple\n",
      "blue red\n",
      "pink green\n",
      "pink yellow\n",
      "pink blue\n",
      "pink pink\n",
      "pink orange\n",
      "pink purple\n",
      "pink red\n",
      "orange green\n",
      "orange yellow\n",
      "orange blue\n",
      "orange pink\n",
      "orange orange\n",
      "orange purple\n",
      "orange red\n",
      "purple green\n",
      "purple yellow\n",
      "purple blue\n",
      "purple pink\n",
      "purple orange\n",
      "purple purple\n",
      "purple red\n",
      "red green\n",
      "red yellow\n",
      "red blue\n",
      "red pink\n",
      "red orange\n",
      "red purple\n",
      "red red\n"
     ]
    }
   ],
   "source": [
    "colors = ['green', 'yellow', 'blue', 'pink', 'orange', 'purple', 'red']\n",
    "\n",
    "def quadratic (colors): # nested loop\n",
    "    for first in colors:\n",
    "        for second in colors:\n",
    "            print(first, second)\n",
    "            \n",
    "quadratic(colors)"
   ]
  },
  {
   "cell_type": "markdown",
   "id": "e0fa4b86",
   "metadata": {},
   "source": [
    "O(n3) - cubic time. \n",
    "\n",
    "It combines the first element of the list with the second one  and the third one and loops it through.\n",
    "\n",
    "If you have 3 elements, you perform 27 operations (3x3)\n",
    "\n",
    "If you have 10 elements, you perform 1,000 operations (10x10)"
   ]
  },
  {
   "cell_type": "code",
   "execution_count": 11,
   "id": "557fbef8",
   "metadata": {},
   "outputs": [
    {
     "name": "stdout",
     "output_type": "stream",
     "text": [
      "green green green\n",
      "green green yellow\n",
      "green green blue\n",
      "green yellow green\n",
      "green yellow yellow\n",
      "green yellow blue\n",
      "green blue green\n",
      "green blue yellow\n",
      "green blue blue\n",
      "yellow green green\n",
      "yellow green yellow\n",
      "yellow green blue\n",
      "yellow yellow green\n",
      "yellow yellow yellow\n",
      "yellow yellow blue\n",
      "yellow blue green\n",
      "yellow blue yellow\n",
      "yellow blue blue\n",
      "blue green green\n",
      "blue green yellow\n",
      "blue green blue\n",
      "blue yellow green\n",
      "blue yellow yellow\n",
      "blue yellow blue\n",
      "blue blue green\n",
      "blue blue yellow\n",
      "blue blue blue\n"
     ]
    }
   ],
   "source": [
    "colors = ['green', 'yellow', 'blue']\n",
    "\n",
    "def cubic(colors): # nested loop\n",
    "    for first in colors:\n",
    "        for second in colors:\n",
    "            for third in colors:\n",
    "                print(first, second, third)\n",
    "            \n",
    "cubic(colors)"
   ]
  },
  {
   "cell_type": "code",
   "execution_count": 12,
   "id": "851396b5",
   "metadata": {},
   "outputs": [
    {
     "name": "stdout",
     "output_type": "stream",
     "text": [
      "green green green\n",
      "green green yellow\n",
      "green green blue\n",
      "green green red\n",
      "green yellow green\n",
      "green yellow yellow\n",
      "green yellow blue\n",
      "green yellow red\n",
      "green blue green\n",
      "green blue yellow\n",
      "green blue blue\n",
      "green blue red\n",
      "green red green\n",
      "green red yellow\n",
      "green red blue\n",
      "green red red\n",
      "yellow green green\n",
      "yellow green yellow\n",
      "yellow green blue\n",
      "yellow green red\n",
      "yellow yellow green\n",
      "yellow yellow yellow\n",
      "yellow yellow blue\n",
      "yellow yellow red\n",
      "yellow blue green\n",
      "yellow blue yellow\n",
      "yellow blue blue\n",
      "yellow blue red\n",
      "yellow red green\n",
      "yellow red yellow\n",
      "yellow red blue\n",
      "yellow red red\n",
      "blue green green\n",
      "blue green yellow\n",
      "blue green blue\n",
      "blue green red\n",
      "blue yellow green\n",
      "blue yellow yellow\n",
      "blue yellow blue\n",
      "blue yellow red\n",
      "blue blue green\n",
      "blue blue yellow\n",
      "blue blue blue\n",
      "blue blue red\n",
      "blue red green\n",
      "blue red yellow\n",
      "blue red blue\n",
      "blue red red\n",
      "red green green\n",
      "red green yellow\n",
      "red green blue\n",
      "red green red\n",
      "red yellow green\n",
      "red yellow yellow\n",
      "red yellow blue\n",
      "red yellow red\n",
      "red blue green\n",
      "red blue yellow\n",
      "red blue blue\n",
      "red blue red\n",
      "red red green\n",
      "red red yellow\n",
      "red red blue\n",
      "red red red\n"
     ]
    }
   ],
   "source": [
    "colors = ['green', 'yellow', 'blue', 'red']\n",
    "\n",
    "def cubic(colors): # nested loop\n",
    "    for first in colors:\n",
    "        for second in colors:\n",
    "            for third in colors:\n",
    "                print(first, second, third)\n",
    "            \n",
    "cubic(colors)"
   ]
  },
  {
   "cell_type": "markdown",
   "id": "d550ab67",
   "metadata": {},
   "source": [
    "# Calculating Big O Notation"
   ]
  },
  {
   "cell_type": "code",
   "execution_count": 14,
   "id": "8dcaaea4",
   "metadata": {},
   "outputs": [
    {
     "name": "stdout",
     "output_type": "stream",
     "text": [
      "green\n",
      "yellow\n",
      "blue\n",
      "pink\n",
      "black\n",
      "white\n",
      "purple\n",
      "orange\n",
      "brown\n",
      "9\n"
     ]
    }
   ],
   "source": [
    "colors = ['green', 'yellow', 'blue', 'pink', 'black', 'white', 'purple'] #O(1)\n",
    "other_colors = ['orange', 'brown'] #O(1)\n",
    "\n",
    "def complex_algorithm(colors):\n",
    "    color_count = 0 #O(1)\n",
    "    \n",
    "    for color in colors: \n",
    "        print(color) #O(n)\n",
    "        color_count += 1 #O(n)\n",
    "    \n",
    "    for other_color in other_colors: \n",
    "        print(other_color) #O(m)\n",
    "        color_count += 1 #O(m)\n",
    "    \n",
    "    print(color_count) #O(1)\n",
    "    \n",
    "complex_algorithm(colors) #O(4+2n+2m)"
   ]
  },
  {
   "cell_type": "markdown",
   "id": "5550d8e9",
   "metadata": {},
   "source": [
    "O(4+2n+2m)\n",
    "\n",
    "1. Remove constants\n",
    "\n",
    "O(n+m)\n",
    "\n",
    "2. Different variables for different inputs\n",
    "\n",
    "O(n+m)\n",
    "\n",
    "3. Remove smaller terms\n",
    "\n",
    "O(n+n2) -> O(n2)"
   ]
  },
  {
   "cell_type": "markdown",
   "id": "c083182f",
   "metadata": {},
   "source": [
    "#### EXERCISES"
   ]
  },
  {
   "cell_type": "markdown",
   "id": "d51a92ab",
   "metadata": {},
   "source": [
    "Practicing with Big O Notation\n",
    "\n",
    "- Iterate over the elements of the list.\n",
    "- Inside the loop, print the current element of the list."
   ]
  },
  {
   "cell_type": "code",
   "execution_count": 16,
   "id": "8238915b",
   "metadata": {},
   "outputs": [
    {
     "name": "stdout",
     "output_type": "stream",
     "text": [
      "green\n",
      "yellow\n",
      "blue\n",
      "pink\n"
     ]
    }
   ],
   "source": [
    "colors = ['green', 'yellow', 'blue', 'pink']\n",
    "\n",
    "def linear(colors):\n",
    "  # Iterate the elements of the list\n",
    "  for color in colors:\n",
    "    # Print the current element of the list\n",
    "    print(color)\t\n",
    "\n",
    "linear(colors)"
   ]
  },
  {
   "cell_type": "markdown",
   "id": "b27a07df",
   "metadata": {},
   "source": [
    "# Working with Stacks"
   ]
  },
  {
   "cell_type": "code",
   "execution_count": 19,
   "id": "c796b1a6",
   "metadata": {},
   "outputs": [],
   "source": [
    "class Node:\n",
    "    def __init__(self, data):\n",
    "        self.data = data\n",
    "        self.next = None"
   ]
  },
  {
   "cell_type": "code",
   "execution_count": 20,
   "id": "32501106",
   "metadata": {},
   "outputs": [],
   "source": [
    "class Stack:\n",
    "    def __init__(self):\n",
    "        self.top = None"
   ]
  },
  {
   "cell_type": "markdown",
   "id": "8e28b265",
   "metadata": {},
   "source": [
    "Stacks - Pushing new element"
   ]
  },
  {
   "cell_type": "code",
   "execution_count": 21,
   "id": "a340d0c2",
   "metadata": {},
   "outputs": [],
   "source": [
    "def push(self, data):\n",
    "    new_node = Node(data) # create a new node with the data\n",
    "    if self.top:\n",
    "        new_node.next = self.top # if the stack is not empty, the next node will be the top node\n",
    "    self.top = new_node # if the stack was empty, the top node will be the new node"
   ]
  },
  {
   "cell_type": "markdown",
   "id": "9d5a4b0e",
   "metadata": {},
   "source": [
    "Stacks - Popping new element"
   ]
  },
  {
   "cell_type": "code",
   "execution_count": 23,
   "id": "bfb531dd",
   "metadata": {},
   "outputs": [],
   "source": [
    "def pop(self):\n",
    "    if self.top is None:\n",
    "        return None # if stack is empty, return None\n",
    "    else:\n",
    "        popped_node = self.top # the popped node will be the top node\n",
    "        self.top = self.top.next # the new top node will be the next node\n",
    "        popped_node.next = None\n",
    "        return popped_node.data"
   ]
  },
  {
   "cell_type": "markdown",
   "id": "223b10e7",
   "metadata": {},
   "source": [
    "Stacks - Peeking the last element of the stack"
   ]
  },
  {
   "cell_type": "code",
   "execution_count": 24,
   "id": "c81359db",
   "metadata": {},
   "outputs": [],
   "source": [
    "def peek(self):\n",
    "    if self.top:\n",
    "        return self.top.data\n",
    "    else:\n",
    "        return None"
   ]
  },
  {
   "cell_type": "markdown",
   "id": "267a3c0b",
   "metadata": {},
   "source": [
    "Using LifoQueue in Python"
   ]
  },
  {
   "cell_type": "code",
   "execution_count": 25,
   "id": "b52bffb6",
   "metadata": {},
   "outputs": [
    {
     "name": "stdout",
     "output_type": "stream",
     "text": [
      "The size is:  3\n"
     ]
    }
   ],
   "source": [
    "import queue\n",
    "\n",
    "my_book_stack = queue.LifoQueue(maxsize=0) # maxsize zero, infinite stack\n",
    "# input items\n",
    "my_book_stack.put(\"The misunderstanding\")\n",
    "my_book_stack.put(\"Persepolis\")\n",
    "my_book_stack.put(\"1984\")\n",
    "# print items\n",
    "print(\"The size is: \", my_book_stack.qsize())"
   ]
  },
  {
   "cell_type": "code",
   "execution_count": 26,
   "id": "ea697e16",
   "metadata": {},
   "outputs": [
    {
     "name": "stdout",
     "output_type": "stream",
     "text": [
      "1984\n"
     ]
    }
   ],
   "source": [
    "# pop elements\n",
    "print(my_book_stack.get())"
   ]
  },
  {
   "cell_type": "code",
   "execution_count": 27,
   "id": "a849d0c3",
   "metadata": {},
   "outputs": [
    {
     "name": "stdout",
     "output_type": "stream",
     "text": [
      "Empty stack:  False\n"
     ]
    }
   ],
   "source": [
    "# check if stack is empty\n",
    "print(\"Empty stack: \", my_book_stack.empty())"
   ]
  },
  {
   "cell_type": "markdown",
   "id": "9c2b6e24",
   "metadata": {},
   "source": [
    "#### EXERCISES"
   ]
  },
  {
   "cell_type": "markdown",
   "id": "37bc9869",
   "metadata": {},
   "source": [
    "1. Implementing a Stack with the push method\n",
    "\n",
    "- Create a Node() using the data argument.\n",
    "- Set the created node to the top node.\n",
    "- Increase by one the size of the stack."
   ]
  },
  {
   "cell_type": "code",
   "execution_count": 28,
   "id": "08318de5",
   "metadata": {},
   "outputs": [],
   "source": [
    "class Stack:\n",
    "  def __init__(self):\n",
    "    # Initially there won't be any node at the top of the stack\n",
    "    self.top = None\n",
    "    # Initially there will be zero elements in the stack\n",
    "    self.size = 0\n",
    "    \n",
    "  def push(self, data):\n",
    "    # Create a node with the data\n",
    "    new_node = Node(data)\n",
    "    if self.top:\n",
    "      new_node.next = self.top\n",
    "    # Set the created node to the top node\n",
    "    self.top = new_node\n",
    "    # Increase the size of the stack by one\n",
    "    self.size += 1"
   ]
  },
  {
   "cell_type": "markdown",
   "id": "8f3f8a22",
   "metadata": {},
   "source": [
    "2. Implementing the pop method for a stack\n",
    "\n",
    "- Check if there is a top element in the stack.\n",
    "- Decrement the size of the stack by one if there isn't a top element.\n",
    "- Update the new value for the top node."
   ]
  },
  {
   "cell_type": "code",
   "execution_count": 29,
   "id": "bc8e7d18",
   "metadata": {},
   "outputs": [],
   "source": [
    "class Stack:\n",
    "  def __init__(self):\n",
    "    self.top = None\n",
    "    self.size = 0\n",
    "    \n",
    "  def pop(self):\n",
    "    # Check if there is a top element\n",
    "    if self.top is None:\n",
    "      return None\n",
    "    else:\n",
    "      popped_node = self.top\n",
    "      # Decrement the size of the stack\n",
    "      self.size -= 1\n",
    "      # Update the new value for the top node\n",
    "      self.top = self.top.next\n",
    "      popped_node.next = None\n",
    "      return popped_node.data "
   ]
  },
  {
   "cell_type": "markdown",
   "id": "bd4e9eb0",
   "metadata": {},
   "source": [
    "3. Using Python's LifoQueue\n",
    "\n",
    "- Import the module that contains Python's LifoQueue().\n",
    "- Create an infinite LifoQueue().\n",
    "- Add an element to the stack.\n",
    "- Remove an element from the stack."
   ]
  },
  {
   "cell_type": "code",
   "execution_count": 30,
   "id": "a286c6a9",
   "metadata": {},
   "outputs": [
    {
     "data": {
      "text/plain": [
       "'Don Quixote'"
      ]
     },
     "execution_count": 30,
     "metadata": {},
     "output_type": "execute_result"
    }
   ],
   "source": [
    "# Import the module to work with Python's LifoQueue\n",
    "import queue\n",
    "\n",
    "# Create an infinite LifoQueue\n",
    "my_book_stack = queue.LifoQueue(maxsize=0)\n",
    "\n",
    "# Add an element to the stack\n",
    "my_book_stack.put(\"Don Quixote\")\n",
    "\n",
    "# Remove an element from the stack\n",
    "my_book_stack.get()"
   ]
  },
  {
   "cell_type": "code",
   "execution_count": null,
   "id": "7becd79c",
   "metadata": {},
   "outputs": [],
   "source": []
  }
 ],
 "metadata": {
  "kernelspec": {
   "display_name": "Python 3 (ipykernel)",
   "language": "python",
   "name": "python3"
  },
  "language_info": {
   "codemirror_mode": {
    "name": "ipython",
    "version": 3
   },
   "file_extension": ".py",
   "mimetype": "text/x-python",
   "name": "python",
   "nbconvert_exporter": "python",
   "pygments_lexer": "ipython3",
   "version": "3.9.7"
  }
 },
 "nbformat": 4,
 "nbformat_minor": 5
}
