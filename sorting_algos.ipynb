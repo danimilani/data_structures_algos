{
 "cells": [
  {
   "cell_type": "markdown",
   "id": "a755a452",
   "metadata": {},
   "source": [
    "# Sorting Algorithms"
   ]
  },
  {
   "cell_type": "markdown",
   "id": "f535abf3",
   "metadata": {},
   "source": [
    "## Bubble Sort"
   ]
  },
  {
   "cell_type": "markdown",
   "id": "6f3eb500",
   "metadata": {},
   "source": [
    "Compare the first 2 values, if the first is greater than the second, swap them. If not, take no action. Continue doing it until all values are sorted."
   ]
  },
  {
   "cell_type": "code",
   "execution_count": 25,
   "id": "910b2e20",
   "metadata": {},
   "outputs": [
    {
     "name": "stdout",
     "output_type": "stream",
     "text": [
      "[1, 3, 4, 5, 7]\n"
     ]
    }
   ],
   "source": [
    "my_list = [4,3,7,1,5]\n",
    "\n",
    "def bubble_sort(my_list):\n",
    "    list_length = len(my_list) #to iterate as many times as length of the list\n",
    "    for i in range(list_length-1):\n",
    "        for j in range(list_length-1-i): #subtract i to avoid checking the already sorted values\n",
    "            if my_list[j] > my_list[j+1]: #compare and swap if 1st > 2nd\n",
    "                my_list[j], my_list[j+1] = my_list[j+1], my_list[j]\n",
    "    return my_list\n",
    "\n",
    "print(bubble_sort(my_list))"
   ]
  },
  {
   "cell_type": "code",
   "execution_count": 26,
   "id": "5f6596be",
   "metadata": {},
   "outputs": [
    {
     "name": "stdout",
     "output_type": "stream",
     "text": [
      "[1, 3, 4, 5, 7, 8, 9, 10, 22, 77, 101, 182, 185]\n"
     ]
    }
   ],
   "source": [
    "my_list = [182,10,22,185,101,9,8,77,4,3,7,1,5]\n",
    "print(bubble_sort(my_list))"
   ]
  },
  {
   "cell_type": "code",
   "execution_count": 29,
   "id": "0087c6bd",
   "metadata": {},
   "outputs": [
    {
     "name": "stdout",
     "output_type": "stream",
     "text": [
      "[1, 3, 4, 5, 7, 8, 9, 10, 22, 77, 101, 182, 185, 282, 878]\n"
     ]
    }
   ],
   "source": [
    "# Checking if the values are sorted already or not\n",
    "\n",
    "my_list_two = [182,10,22,878,185,101,9,8,77,282,4,3,7,1,5]\n",
    "\n",
    "def bubble_sort_two(my_list_two):\n",
    "    list_length = len(my_list_two) #to iterate as many times as length of the list\n",
    "    is_sorted = False\n",
    "    while not is_sorted:\n",
    "        is_sorted = True\n",
    "        for i in range(list_length-1):\n",
    "            if my_list_two[i] > my_list_two[i+1]: #compare and swap if 1st > 2nd\n",
    "                my_list_two[i], my_list_two[i+1] = my_list_two[i+1], my_list_two[i]\n",
    "                is_sorted = False\n",
    "        list_length -= 1\n",
    "    return my_list_two\n",
    "\n",
    "\n",
    "print(bubble_sort_two(my_list_two))"
   ]
  },
  {
   "cell_type": "markdown",
   "id": "b131b3ac",
   "metadata": {},
   "source": [
    "### Exercises"
   ]
  },
  {
   "cell_type": "code",
   "execution_count": 30,
   "id": "ef867f52",
   "metadata": {},
   "outputs": [
    {
     "name": "stdout",
     "output_type": "stream",
     "text": [
      "[1, 2, 4, 5, 7, 9]\n"
     ]
    }
   ],
   "source": [
    "# Correcting a bug in the bubble sort algorithm\n",
    "\n",
    "def bubble_sort(my_list):\n",
    "  list_length = len(my_list)\n",
    "  # Correct the mistake\n",
    "  is_sorted = False\n",
    "  while not is_sorted:\n",
    "    is_sorted = True\n",
    "    for i in range(list_length-1):\n",
    "      # Correct the mistake\n",
    "      if my_list[i] > my_list[i+1]:\n",
    "        my_list[i] , my_list[i+1] = my_list[i+1] , my_list[i]\n",
    "        is_sorted = False\n",
    "    # Correct the mistake\n",
    "    list_length -= 1\n",
    "  return my_list\n",
    "\n",
    "print(bubble_sort([5, 7, 9, 1, 4, 2]))"
   ]
  },
  {
   "cell_type": "markdown",
   "id": "185abb8d",
   "metadata": {},
   "source": [
    "## Selection Sort and Insertion Sort "
   ]
  },
  {
   "cell_type": "markdown",
   "id": "d5c2b0d8",
   "metadata": {},
   "source": [
    "## Selection Sort"
   ]
  },
  {
   "cell_type": "markdown",
   "id": "dfe63e28",
   "metadata": {},
   "source": [
    "Determine the lowest value of the list (first one) and compare it to the next value and determine which one is the lowest. \n",
    "\n",
    "Keep moving it. When it gets to the end of the list, swap the lowest value with the first one on the list."
   ]
  },
  {
   "cell_type": "code",
   "execution_count": 33,
   "id": "b4431a2b",
   "metadata": {},
   "outputs": [
    {
     "name": "stdout",
     "output_type": "stream",
     "text": [
      "[1, 3, 4, 5, 7]\n"
     ]
    }
   ],
   "source": [
    "my_list = [4,3,7,1,5]\n",
    "\n",
    "def selection_sort(my_list):\n",
    "    list_length = len(my_list)\n",
    "    for i in range(list_length - 1): # loop iterates over all the elements of the list, except the last one\n",
    "        lowest = my_list[i] # save the 1st value as the lowest\n",
    "        index = i\n",
    "        for j in range(i+1, list_length): # loop that begins at the next position\n",
    "            if my_list[j] < lowest: # for each element, check if the value is less than the lowest value we found so far\n",
    "                index = j # save its index\n",
    "                lowest = my_list[j] # save its value\n",
    "        my_list[i], my_list[index] = my_list[index], my_list[i] # swap the lowest value with the first value in the list\n",
    "    return my_list\n",
    "\n",
    "print(selection_sort(my_list))"
   ]
  },
  {
   "cell_type": "markdown",
   "id": "a450d685",
   "metadata": {},
   "source": [
    "## Insertion Sort"
   ]
  },
  {
   "cell_type": "markdown",
   "id": "2a0315a1",
   "metadata": {},
   "source": [
    "Compare two values. Shift the bigger one to the right and the lower to the left. If on the left, there is a bigger value, shift to the left until this value is the lowest on the list."
   ]
  },
  {
   "cell_type": "code",
   "execution_count": 35,
   "id": "bb16370a",
   "metadata": {},
   "outputs": [
    {
     "name": "stdout",
     "output_type": "stream",
     "text": [
      "[1, 3, 4, 5, 7]\n"
     ]
    }
   ],
   "source": [
    "my_list = [4,3,7,1,5]\n",
    "\n",
    "def insertion_sort(my_list):\n",
    "    for i in range(1, len(my_list)): # loop starts at position 1 and goes until the end of the list\n",
    "        number_to_order = my_list[i] # store the number we want to order\n",
    "        j = i - 1\n",
    "        while j >= 0 and number_to_order < my_list[j]:\n",
    "            my_list[j + 1] = my_list[j] # shift the value at j index to the right\n",
    "            j -= 1\n",
    "        my_list[j + 1] = number_to_order # move the number to its correct position\n",
    "    return my_list\n",
    "\n",
    "print(insertion_sort(my_list))"
   ]
  },
  {
   "cell_type": "markdown",
   "id": "83b69000",
   "metadata": {},
   "source": [
    "### Exercise"
   ]
  },
  {
   "cell_type": "code",
   "execution_count": 36,
   "id": "0957f3a6",
   "metadata": {},
   "outputs": [
    {
     "name": "stdout",
     "output_type": "stream",
     "text": [
      "[2, 4, 6, 7, 8, 9]\n"
     ]
    }
   ],
   "source": [
    "# Coding selection sort\n",
    "\n",
    "def selection_sort(my_list):\n",
    "  list_length = len(my_list)\n",
    "  for i in range(list_length - 1):\n",
    "    # Set lowest to the element of the list located at index i\n",
    "    lowest = my_list[i]\n",
    "    index = i\n",
    "    # Iterate again over the list starting on the next position of the i variable\n",
    "    for j in range(i+1, list_length):\n",
    "      # Compare whether the element of the list located at index j is smaller than lowest\n",
    "      if my_list[j] < lowest:\n",
    "        index = j\n",
    "        lowest = my_list[j]\n",
    "    my_list[i] , my_list[index] = my_list[index] , my_list[i]\n",
    "  return my_list\n",
    "\n",
    "my_list = [6, 2, 9, 7, 4, 8] \n",
    "selection_sort(my_list)\n",
    "print(my_list)"
   ]
  },
  {
   "cell_type": "markdown",
   "id": "da707e07",
   "metadata": {},
   "source": [
    "## Merge Sort"
   ]
  },
  {
   "cell_type": "markdown",
   "id": "b484fa3d",
   "metadata": {},
   "source": [
    "Follows divide and conquer\n",
    "\n",
    "- Divide: divides the problem into smaller sub-problems\n",
    "- Conquer: sub-problems are resolved recursively\n",
    "- Combine: solutions of sub-problems are combined to achieve final solution"
   ]
  },
  {
   "cell_type": "code",
   "execution_count": 42,
   "id": "67d0c178",
   "metadata": {},
   "outputs": [],
   "source": [
    "def merge_sort(my_list):\n",
    "    if len(my_list) > 1: # define the base case, if list = 1, the list is already sorted\n",
    "        mid = len(my_list)//2 # divide the list into two parts\n",
    "        left_half = my_list[:mid]\n",
    "        right_half = my_list[mid:]\n",
    "        merge_sort(left_half) # call the function recursively\n",
    "        merge_sort(right_half) # call the function recursively\n",
    "        \n",
    "        # declare i for the index of the left half\n",
    "        # declare j for the index of the right half\n",
    "        # declare k for the index of the final list\n",
    "        \n",
    "        i = j = k = 0 # set them all to zero\n",
    "        \n",
    "        while i < len(left_half) and j < len(right_half):\n",
    "            if left_half[i] < right_half[j]: # compare if left item is less than right item\n",
    "                my_list[k] = left_half[i]\n",
    "                i += 1\n",
    "            else:\n",
    "                my_list[k] = right_half[j]\n",
    "                j += 1\n",
    "            k += 1\n",
    "            \n",
    "        while i < len(left_half): # check if left half has any remaining elements\n",
    "            my_list[k] = left_half[i]\n",
    "            i += 1\n",
    "            k += 1\n",
    "            \n",
    "        while j < len(right_half): # do the same for the right half\n",
    "            my_list[k] = right_half[j]\n",
    "            j += 1\n",
    "            k += 1\n"
   ]
  },
  {
   "cell_type": "code",
   "execution_count": 43,
   "id": "0598a3ac",
   "metadata": {},
   "outputs": [
    {
     "name": "stdout",
     "output_type": "stream",
     "text": [
      "[1, 4, 20, 22, 30, 35, 40, 50, 90]\n"
     ]
    }
   ],
   "source": [
    "# Testing the Algo\n",
    "    \n",
    "my_list = [35,22,90,4,50,20,30,40,1]\n",
    "merge_sort(my_list)\n",
    "print(my_list)"
   ]
  },
  {
   "cell_type": "markdown",
   "id": "dbbc7bc3",
   "metadata": {},
   "source": [
    "### Exercise"
   ]
  },
  {
   "cell_type": "code",
   "execution_count": 44,
   "id": "751d09c2",
   "metadata": {},
   "outputs": [
    {
     "name": "stdout",
     "output_type": "stream",
     "text": [
      "[1, 4, 20, 22, 30, 35, 40, 50, 90]\n"
     ]
    }
   ],
   "source": [
    "# Correcting a bug in the merge sort algorithm\n",
    "\n",
    "def merge_sort(my_list):\n",
    "    if len(my_list) > 1: \n",
    "        mid = len(my_list)//2\n",
    "        left_half = my_list[:mid]\n",
    "        right_half = my_list[mid:]\n",
    "        \n",
    "        merge_sort(left_half)\n",
    "        merge_sort(right_half)\n",
    " \n",
    "        i = j = k = 0\n",
    " \n",
    "        while i < len(left_half) and j < len(right_half):\n",
    "            if left_half[i] < right_half[j]:\n",
    "        \t\t# Correct mistake when assigning left half\n",
    "                my_list[k] = left_half[i]                \n",
    "                i += 1\n",
    "            else:\n",
    "                # Correct mistake when assigning right half\n",
    "                my_list[k] = right_half[j]\n",
    "                j += 1\n",
    "            k += 1\n",
    "            \n",
    "        while i < len(left_half):\n",
    "            my_list[k] = left_half[i]\n",
    "            # Correct mistake when updating pointer for left half\n",
    "            i += 1\n",
    "            k += 1\n",
    " \n",
    "        while j < len(right_half):\n",
    "            my_list[k] = right_half[j]\n",
    "            # Correct mistake when updating pointer for right half\n",
    "            j += 1\n",
    "            k += 1\n",
    "\n",
    "my_list = [35,22,90,4,50,20,30,40,1]\n",
    "merge_sort(my_list)\n",
    "print(my_list)"
   ]
  },
  {
   "cell_type": "markdown",
   "id": "c05fb831",
   "metadata": {},
   "source": [
    "## Quicksort"
   ]
  },
  {
   "cell_type": "markdown",
   "id": "4df189bc",
   "metadata": {},
   "source": [
    "It uses the partition technique\n",
    "\n",
    "- items smaller than the pivot = left\n",
    "- items greater than the pivot = right"
   ]
  },
  {
   "cell_type": "code",
   "execution_count": 56,
   "id": "79dd415c",
   "metadata": {},
   "outputs": [],
   "source": [
    "def partition(my_list, first_index, last_index):\n",
    "    pivot = my_list[first_index]\n",
    "    left_pointer = first_index + 1\n",
    "    right_pointer = last_index\n",
    "    while True:\n",
    "        while my_list[left_pointer] < pivot and left_pointer < last_index:\n",
    "            left_pointer += 1\n",
    "        while my_list[right_pointer] > pivot and right_pointer >= first_index:\n",
    "            right_pointer -= 1\n",
    "        if left_pointer >= right_pointer:\n",
    "            break\n",
    "        my_list[left_pointer], my_list[right_pointer] = my_list[right_pointer], my_list[left_pointer]\n",
    "    my_list[first_index], my_list[right_pointer] = my_list[right_pointer], my_list[first_index]\n",
    "    return right_pointer"
   ]
  },
  {
   "cell_type": "code",
   "execution_count": 57,
   "id": "fdd26e8b",
   "metadata": {},
   "outputs": [
    {
     "name": "stdout",
     "output_type": "stream",
     "text": [
      "[2, 4, 6, 7, 8, 9]\n"
     ]
    }
   ],
   "source": [
    "my_list = [6,2,9,7,4,8]\n",
    "quicksort(my_list, 0, len(my_list) - 1)\n",
    "print(my_list)"
   ]
  },
  {
   "cell_type": "markdown",
   "id": "7dc9e691",
   "metadata": {},
   "source": [
    "### Exercise "
   ]
  },
  {
   "cell_type": "code",
   "execution_count": 58,
   "id": "c424e02a",
   "metadata": {},
   "outputs": [],
   "source": [
    "# Implementing the quicksort algorithm\n",
    "\n",
    "def partition(my_list, first_index, last_index):\n",
    "  pivot = my_list[first_index]\n",
    "  left_pointer = first_index + 1\n",
    "  right_pointer = last_index\n",
    " \n",
    "  while True:\n",
    "    # Iterate until the value pointed by left_pointer is greater than pivot or left_pointer is greater than last_index\n",
    "    while my_list[left_pointer] < pivot and left_pointer < last_index:\n",
    "      left_pointer += 1\n",
    "    \n",
    "    while my_list[right_pointer] > pivot and right_pointer >= first_index:\n",
    "      right_pointer -= 1 \n",
    "    if left_pointer >= right_pointer:\n",
    "        break\n",
    "    # Swap the values for the elements located at the left_pointer and right_pointer\n",
    "    my_list[left_pointer], my_list[right_pointer] = my_list[right_pointer], my_list[left_pointer]\n",
    "   \n",
    "  my_list[first_index], my_list[right_pointer] = my_list[right_pointer], my_list[first_index]\n",
    "  return right_pointer"
   ]
  },
  {
   "cell_type": "code",
   "execution_count": 59,
   "id": "e151f844",
   "metadata": {},
   "outputs": [
    {
     "name": "stdout",
     "output_type": "stream",
     "text": [
      "[2, 6, 7, 9]\n"
     ]
    }
   ],
   "source": [
    "def quicksort(my_list, first_index, last_index):\n",
    "  if first_index < last_index:\n",
    "    # Call the partition() function with the appropriate parameters\n",
    "    partition_index = partition(my_list, first_index, last_index)\n",
    "    # Call quicksort() on the elements to the left of the partition\n",
    "    quicksort(my_list, first_index, partition_index)\n",
    "    quicksort(my_list, partition_index + 1, last_index) \n",
    "    \n",
    "my_list = [6, 2, 9, 7] \n",
    "quicksort(my_list, 0, len(my_list) - 1)\n",
    "print(my_list)"
   ]
  },
  {
   "cell_type": "code",
   "execution_count": null,
   "id": "489e4e81",
   "metadata": {},
   "outputs": [],
   "source": []
  }
 ],
 "metadata": {
  "kernelspec": {
   "display_name": "Python 3 (ipykernel)",
   "language": "python",
   "name": "python3"
  },
  "language_info": {
   "codemirror_mode": {
    "name": "ipython",
    "version": 3
   },
   "file_extension": ".py",
   "mimetype": "text/x-python",
   "name": "python",
   "nbconvert_exporter": "python",
   "pygments_lexer": "ipython3",
   "version": "3.9.7"
  }
 },
 "nbformat": 4,
 "nbformat_minor": 5
}
